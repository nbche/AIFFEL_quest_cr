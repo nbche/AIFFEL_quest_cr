{
  "nbformat": 4,
  "nbformat_minor": 0,
  "metadata": {
    "colab": {
      "provenance": [],
      "authorship_tag": "ABX9TyMXWZJSoPcGU1oed927cX8r",
      "include_colab_link": true
    },
    "kernelspec": {
      "name": "python3",
      "display_name": "Python 3"
    },
    "language_info": {
      "name": "python"
    }
  },
  "cells": [
    {
      "cell_type": "markdown",
      "metadata": {
        "id": "view-in-github",
        "colab_type": "text"
      },
      "source": [
        "<a href=\"https://colab.research.google.com/github/nbche/AIFFEL_quest_cr/blob/main/11_DEC_2024.ipynb\" target=\"_parent\"><img src=\"https://colab.research.google.com/assets/colab-badge.svg\" alt=\"Open In Colab\"/></a>"
      ]
    },
    {
      "cell_type": "code",
      "execution_count": null,
      "metadata": {
        "id": "V1o7xcA0qjR6"
      },
      "outputs": [],
      "source": [
        "# 사각형 넓이를 구하기\n",
        "class Square:  ## 클래스 만들기\n",
        "    def __init__(self):\n",
        "        self.square = int(input('넓이를 구하고 싶은 사각형의 숫자를 써주세요.\\n 1.직사각형 2.평행사변형 3.사다리꼴 \\n >>>'))\n",
        "\n",
        "        if self.square == 1:\n",
        "            print('직사각형 함수는 rect()입니다.')\n",
        "\n",
        "        elif self.square == 2:\n",
        "            print('평행사변형 함수는 par()입니다.')\n",
        "\n",
        "        elif self.square == 3:\n",
        "            print('사다리꼴 함수는 trape()입니다.')\n",
        "\n",
        "        else:\n",
        "            print('1, 2, 3 중에서 다시 입력해주세요')\n",
        "\n",
        "    def rect(self):  ## 직사각형의 넓이\n",
        "        width, vertical = map(int, input('가로, 세로를 입력하세요. 예시 : 가로,세로\\n >>>').split(','))\n",
        "        area = width * vertical\n",
        "        result = '직사각형의 넓이는 : ' + str(area)\n",
        "        return result\n",
        "\n",
        "    def par(self):  ## 평행사변형의 넓이\n",
        "        bottom, height = map(int, input('밑변, 높이를 입력하세요. 예시 : 밑변,높이\\n >>>').split(','))\n",
        "        area = bottom * height\n",
        "        result = '평행사변형의의 넓이는 : ' + str(area)\n",
        "        return result\n",
        "\n",
        "    def trape(self):  ## 사다리꼴의 넓이\n",
        "        bottom, top, height = map(int, input('밑변, 윗변, 높이를 입력하세요. 예시 : 밑변,윗변,높이\\n >>>').split(','))\n",
        "        area = (bottom+top) * height / 2\n",
        "        result = '사다리꼴의 넓이는 : ' + str(area)\n",
        "        return result"
      ]
    },
    {
      "cell_type": "code",
      "source": [
        "a = Square()\n"
      ],
      "metadata": {
        "id": "cyicYRuMqt3n"
      },
      "execution_count": null,
      "outputs": []
    },
    {
      "cell_type": "code",
      "source": [
        "a.rect()"
      ],
      "metadata": {
        "id": "wcDLrGTJulT4"
      },
      "execution_count": null,
      "outputs": []
    },
    {
      "cell_type": "code",
      "source": [
        "a.par()"
      ],
      "metadata": {
        "id": "MH3nezGvvDFf"
      },
      "execution_count": null,
      "outputs": []
    },
    {
      "cell_type": "code",
      "source": [
        "a.trape()"
      ],
      "metadata": {
        "id": "GZPqr-DIvGeH"
      },
      "execution_count": null,
      "outputs": []
    },
    {
      "cell_type": "code",
      "source": [
        "# 키오스크 만들기\n",
        "## Step 1. 클래스 만들기\n",
        "class Kiosk:\n",
        "\n",
        "    menu = ['americano', 'latte', 'mocha', 'yuza_tea', 'green_tea', 'choco_latte']  ### 클래스 변수\n",
        "    price = [2000, 3000, 3000, 2500, 2500, 3000]\n",
        "    temp = ['HOT', 'ICE']\n",
        "\n",
        "    def __init__(self):      ### 클래스 속성\n",
        "        self.menu = Kiosk.menu\n",
        "        self.price = Kiosk.price\n",
        "        self.temp = Kiosk.temp\n",
        "\n",
        "## Step 2. 메뉴 출력 메서드\n",
        "    def menu_print(self):\n",
        "        for i in range(len(self.menu)):  ### 범위로 전체 메뉴 출력하기\n",
        "            print(i+1, self.menu[i], ' : ', self.price[i], '원')\n",
        "\n",
        "## Step 3. 주문 메서드\n",
        "    def menu_select(self):\n",
        "        self.order_menu = []  ### 내용 없는 주문 메뉴 리스트\n",
        "        self.order_price = []  ### 내용 없는 주문 가격 리스트\n",
        "        self.price_sum = 0\n",
        "\n",
        "        n = 0\n",
        "        while n < 1 or len(Kiosk.menu) < n:\n",
        "            n = int(input(\"음료 번호를 입력하세요 : \"))  ### 음료 번호 입력\n",
        "\n",
        "            if 1 <= n & n <= len(Kiosk.menu):   ### 메뉴판에 있는 음료 번호일때\n",
        "                self.price[n-1]  # 선택 음료의 가격\n",
        "                self.price_sum += self.price[n-1]\n",
        "                print(self.menu[n-1], ' : ', self.price[n-1], '원')\n",
        "\n",
        "            else:               ### 메뉴판에 없는 음료 번호일때\n",
        "                print(\"없는 메뉴입니다. 다시 주문해 주세요.\")\n",
        "\n",
        "        ## 음료 온도 물어보기\n",
        "        t = 0  ### 기본값을 넣어주고\n",
        "        while t != 1 and t != 2:  ### 1이나 2를 입력할 때까지 물어보기\n",
        "            t= int(input(\"HOT 음료는 1을, ICE 음료는 2를 입력하세요 : \"))\n",
        "            if t == 1 or t ==2:  ### 제대로 된 입력을 주문에 반영\n",
        "                self.temp[t-1]\n",
        "            else:\n",
        "                print(\"1과 2 중 하나를 입력하세요.\\n\")\n",
        "\n",
        "        self.order_menu.append(self.temp[t-1] + ' ' + self.menu[n-1])  # 주문 메뉴 리스트에 추가\n",
        "        self.order_price.append(self.price[n-1])  # 주문 가격 리스트에 추가\n",
        "        print('주문 음료', self.temp[t-1], self.menu[n-1], ' : ', self.price[n-1], '원')  ## 온도 속성을 추가한 주문 결과 출력\n",
        "\n",
        "        ## 추가 주문 또는 지불\n",
        "        while n != 0:  ### 지불을 선택하기 전까지 반복합니다.\n",
        "            print()  ### 줄 바꾸면서\n",
        "            n = int(input(\"추가 주문은 음료 번호를, 지불은 0을 누르세요 : \"))  ### 추가 주문 또는 지불\n",
        "            if n > 0 and n < len(self.menu) + 1:\n",
        "                t= int(input(\"HOT 음료는 1을, ICE 음료는 2를 입력하세요 : \")) ### 추구 주문 음료의 냉/온 선택\n",
        "                if t == 1 or t ==2:\n",
        "                    self.order_menu.append(self.temp[t-1] + ' ' + self.menu[n-1])  # 추가 주문 메뉴 리스트에 추가\n",
        "                    self.order_price.append(self.price[n-1])  ### 추가 주문 가격 리스트에 추가\n",
        "                    self.price_sum += self.price[n-1]   ### 합계 금액 누적\n",
        "                    print('추가 주문 음료', self.temp[t-1], self.menu[n-1], ':', self.price[n-1], '원\\n', '합계 :', self.price_sum, '원')\n",
        "                else:\n",
        "                    print(\"1과 2 중 하나를 입력하세요.\\n\")\n",
        "\n",
        "            else :\n",
        "                if n == 0 :  ### 지불을 입력하면\n",
        "                    print(\"주문이 완료되었습니다.\")\n",
        "                    print(self.order_menu, self.order_price)  ### 확인을 위한 리스트를 출력합니다.\n",
        "                else :  ### 없는 번호를 입력할 때\n",
        "                    print(\"없는 메뉴입니다. 다시 주문해 주세요.\")\n",
        "\n",
        "## Step 4. 지급 메서드\n",
        "    def pay (self):\n",
        "        print('주문 총액:', self.price_sum, '원') ### 지급 총액 보여주기\n",
        "        p = \"\"\n",
        "        while p != '1' and p != '2':\n",
        "            p = input('지급 방식을 선택해 주십시오. 현금인 경우 숫자 1을 카드인 경우 숫자 2를 입력하십시오.: ')\n",
        "            if p == '1':    ### 현금 결제 선택의 경우\n",
        "                print('직원을 호출하겠습니다.')\n",
        "            elif p == '2':    ### 카드 결제 선택의 경우\n",
        "                print('IC칩 방향에 맞게 카드를 꽂아주세요.')\n",
        "            else:               ### 제시된 결제 방법이 아닌 경우\n",
        "                print(\"결제 방법을 다시 확인해 주십시오.\")\n",
        "\n",
        "\n",
        "## Step 5. 주문표 출력\n",
        "    def table (self):\n",
        "        print('⟝' + '-' * 30 + '⟞')   ### 외곽\n",
        "        for i in range(5):\n",
        "            print('|' + ' ' * 31 + '|')\n",
        "\n",
        "\n",
        "        for i in range(len(self.order_menu)):   ### 주문 내용\n",
        "            print(self.order_menu[i], ' : ', self.order_price[i])\n",
        "\n",
        "        print('합계 금액 :', self.price_sum)\n",
        "\n",
        "\n",
        "        for i in range(5):   ### 외곽\n",
        "            print('|' + ' ' * 31+ '|')\n",
        "        print('⟝' + '-' * 30 + '⟞')"
      ],
      "metadata": {
        "id": "dRY2rGOmvgm3"
      },
      "execution_count": 73,
      "outputs": []
    },
    {
      "cell_type": "markdown",
      "source": [],
      "metadata": {
        "id": "LLD86ZJ-9HAL"
      }
    },
    {
      "cell_type": "code",
      "source": [
        "a = Kiosk()\n",
        "a.menu_print()\n",
        "a.menu_select()"
      ],
      "metadata": {
        "colab": {
          "base_uri": "https://localhost:8080/"
        },
        "id": "y_TcTXLE1ch6",
        "outputId": "962cb7f1-2d83-4b80-e677-9cdde6f0d26f"
      },
      "execution_count": 70,
      "outputs": [
        {
          "output_type": "stream",
          "name": "stdout",
          "text": [
            "1 americano  :  2000 원\n",
            "2 latte  :  3000 원\n",
            "3 mocha  :  3000 원\n",
            "4 yuza_tea  :  2500 원\n",
            "5 green_tea  :  2500 원\n",
            "6 choco_latte  :  3000 원\n",
            "음료 번호를 입력하세요 : 1\n",
            "americano  :  2000 원\n",
            "HOT 음료는 1을, ICE 음료는 2를 입력하세요 : 2\n",
            "주문 음료 ICE americano  :  2000 원\n",
            "\n",
            "추가 주문은 음료 번호를, 지불은 0을 누르세요 : 2\n",
            "HOT 음료는 1을, ICE 음료는 2를 입력하세요 : 2\n",
            "추가 주문 음료 ICE latte : 3000 원\n",
            " 합계 : 5000 원\n",
            "\n",
            "추가 주문은 음료 번호를, 지불은 0을 누르세요 : 3\n",
            "HOT 음료는 1을, ICE 음료는 2를 입력하세요 : 2\n",
            "추가 주문 음료 ICE mocha : 3000 원\n",
            " 합계 : 8000 원\n",
            "\n",
            "추가 주문은 음료 번호를, 지불은 0을 누르세요 : 4\n",
            "HOT 음료는 1을, ICE 음료는 2를 입력하세요 : 1\n",
            "추가 주문 음료 HOT yuza_tea : 2500 원\n",
            " 합계 : 10500 원\n",
            "\n",
            "추가 주문은 음료 번호를, 지불은 0을 누르세요 : 5\n",
            "HOT 음료는 1을, ICE 음료는 2를 입력하세요 : 2\n",
            "추가 주문 음료 ICE green_tea : 2500 원\n",
            " 합계 : 13000 원\n",
            "\n",
            "추가 주문은 음료 번호를, 지불은 0을 누르세요 : 6\n",
            "HOT 음료는 1을, ICE 음료는 2를 입력하세요 : 1\n",
            "추가 주문 음료 HOT choco_latte : 3000 원\n",
            " 합계 : 16000 원\n",
            "\n",
            "추가 주문은 음료 번호를, 지불은 0을 누르세요 : 0\n",
            "주문이 완료되었습니다.\n",
            "['ICE americano', 'ICE latte', 'ICE mocha', 'HOT yuza_tea', 'ICE green_tea', 'HOT choco_latte'] [2000, 3000, 3000, 2500, 2500, 3000]\n"
          ]
        }
      ]
    },
    {
      "cell_type": "code",
      "source": [
        "a.pay()"
      ],
      "metadata": {
        "colab": {
          "base_uri": "https://localhost:8080/"
        },
        "id": "m1XOI2lR6_ch",
        "outputId": "faa688c5-7c1a-46ca-cb28-bb95025676d7"
      },
      "execution_count": 71,
      "outputs": [
        {
          "output_type": "stream",
          "name": "stdout",
          "text": [
            "주문 총액: 16000 원\n",
            "지급 방식을 선택해 주십시오. 현금인 경우 숫자 1을 카드인 경우 숫자 2를 입력하십시오.: 1\n",
            "직원을 호출하겠습니다.\n"
          ]
        }
      ]
    },
    {
      "cell_type": "code",
      "source": [
        "a.bill()"
      ],
      "metadata": {
        "colab": {
          "base_uri": "https://localhost:8080/"
        },
        "id": "cgcgkxKiCKza",
        "outputId": "f20bc373-5e59-4d05-9e9a-f42b22d33236"
      },
      "execution_count": 72,
      "outputs": [
        {
          "output_type": "stream",
          "name": "stdout",
          "text": [
            "⟝------------------------------⟞\n",
            "|                               |\n",
            "|                               |\n",
            "|                               |\n",
            "|                               |\n",
            "|                               |\n",
            "ICE americano  :  2000\n",
            "ICE latte  :  3000\n",
            "ICE mocha  :  3000\n",
            "HOT yuza_tea  :  2500\n",
            "ICE green_tea  :  2500\n",
            "HOT choco_latte  :  3000\n",
            "합계 금액 : 16000\n",
            "|                               |\n",
            "|                               |\n",
            "|                               |\n",
            "|                               |\n",
            "|                               |\n",
            "⟝------------------------------⟞\n"
          ]
        }
      ]
    }
  ]
}