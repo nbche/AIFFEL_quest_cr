{
  "nbformat": 4,
  "nbformat_minor": 0,
  "metadata": {
    "colab": {
      "provenance": [],
      "authorship_tag": "ABX9TyPp4C1E/Vi7MtMXzsvvMU5I",
      "include_colab_link": true
    },
    "kernelspec": {
      "name": "python3",
      "display_name": "Python 3"
    },
    "language_info": {
      "name": "python"
    }
  },
  "cells": [
    {
      "cell_type": "markdown",
      "metadata": {
        "id": "view-in-github",
        "colab_type": "text"
      },
      "source": [
        "<a href=\"https://colab.research.google.com/github/nbche/AIFFEL_quest_cr/blob/main/12_DEC_2024_Python_Main.ipynb\" target=\"_parent\"><img src=\"https://colab.research.google.com/assets/colab-badge.svg\" alt=\"Open In Colab\"/></a>"
      ]
    },
    {
      "cell_type": "markdown",
      "source": [
        "## 메인퀘스트 1번: 은행 계좌 만들기"
      ],
      "metadata": {
        "id": "dst8LBbPCGzi"
      }
    },
    {
      "cell_type": "code",
      "source": [
        "## Step 0. 필요한 모듈/패키지 호출\n",
        "import random as r\n",
        "r.seed(100)                ### 임의로 호출된 결과를 고정하는 역활\n",
        "\n",
        "## Step 1. Class 생성\n",
        "class Account: ### 클래스 이름\n",
        "\n",
        "    bank = 'SC은행'  ### 클래스 변수 - 은행명\n",
        "    a_count = 0  ### 클래스 변수 - 개설 계좌수 (초기값) ####  a => account\n",
        "    activity = ['입금', '출금', '이자'] ### 클래스 변수 - 거래 종류 (1 = 입금, 2 = 출금, 3 = 이자지급)\n",
        "    a_list = [] ### 클래스 변수 - 고객 리스트\n",
        "\n",
        "    def __init__(self, name, balance):      ### 클래스 속성\n",
        "        self.a_holder = name\n",
        "        self.balance = balance\n",
        "        self.d_count = 0   ####  d => deposit\n",
        "        self.t_count = 0    ####  t => transaction\n",
        "        self.interest = 0\n",
        "        self.t_list = []  ### 거래 내역 기록 목적\n",
        "        Account.a_count += 1\n",
        "\n",
        "\n",
        "    def opening(self):      ## 계좌번호 생성\n",
        "        self.number_list = []\n",
        "        for i in range(11):\n",
        "            number = r.randint(0, 9)  ### 11개의 난수 생성\n",
        "            self.number_list.append(number)  ### 생성된 숫자를 리스트로 만듦\n",
        "        print(self.number_list)           ### 생성된 11자리 숫자\n",
        "        self.a_number = f\"{''.join(map(str, self.number_list[0:3]))}-{''.join(map(str, self.number_list[3:5]))}-{''.join(map(str, self.number_list[5:]))}\"    ### 은행 계좌화 하기\n",
        "        print(self.a_number)           ### 생성된 은행계좌번호 보여주기\n",
        "        Account.a_list.append([self.a_holder, self.a_number, self.balance])\n",
        "\n",
        "    def display_info(self): ### 인스턴트 정보를 출력 (계좌 개설 이후에 출력하시오!!)\n",
        "        print('은행이름: ', Account.bank, '예금주: ',self.a_holder, '계좌번호: ', self.a_number, '잔고: ', f'{self.balance:,}')\n",
        "\n",
        "    def get_account_num():  ### 총 개설 계좌수\n",
        "        print('총 개설된 계좌 수는:', Account.a_count, '개 입니다. ')\n",
        "\n",
        "        for customer in Account.a_list:\n",
        "            if customer[2] >= 1000000:  ### 잔고 1백만원 이상의 고객만 리스트화 하기\n",
        "                print('은행이름: ', Account.bank, '예금주: ', customer[0],'계좌번호: ', customer[1], '잔고: ', customer[2],)\n",
        "\n",
        "        else:\n",
        "            pass\n",
        "\n",
        "## Step 2. 거래 처리처리\n",
        "\n",
        "    def deposit(self, amount):  ### 입금처리\n",
        "\n",
        "        if amount >= 1.00:   ### 입금 금액이 최소 1원 이상인 경우\n",
        "            self.balance += amount  ### 잔액을 증가 시킴\n",
        "            self.d_count += 1   ### 입금 거래 건수 입력에 추가\n",
        "            self.t_count += 1   ### 총 거래 건수에 추가\n",
        "            self.t_list.append([self.t_count, Account.activity[0], amount, self.balance])  ### 거래 내역 기록\n",
        "            print(f'입금하실 금액은 ', amount, '원입니다.' )\n",
        "            print(f'처리후 전액은 ', self.balance, '원입니다.' )\n",
        "\n",
        "            if self.d_count%5 == 0:  ### 입금 거래건수가 5의 배수 여부 확인\n",
        "                self.interest = round(self.balance*0.01,3) ### 이자 금액 계산\n",
        "                self.balance += self.interest\n",
        "                self.d_count += 1   ### 입금 거래 건수에 추가\n",
        "                self.t_count += 1   ### 총 거래 건수에 추가\n",
        "                self.t_list.append([self.t_count, Account.activity[2], self.interest, self.balance])  ### 거래 내역 기록\n",
        "                print(f'{self.interest}의 이자가 입금되었습니다.')\n",
        "\n",
        "            else:\n",
        "                pass\n",
        "\n",
        "        elif 0 <= amount < 1:\n",
        "            print('최소 입금 가능액은 1원입니다.')\n",
        "\n",
        "        else:               ### 음수 또는 문자가 입력되는 경우\n",
        "            print(\"입금액을 재확인해 주십시오.\")\n",
        "\n",
        "\n",
        "    def withdrawal(self, amount):  ### 출금처리\n",
        "\n",
        "            if 0< amount <= self.balance:   ### 출금액이 잔액 이하인 경우\n",
        "                self.balance -= amount  ### 잔액을 증가 시킴\n",
        "                self.t_count += 1   ### 총 거래 건수에 추가\n",
        "                self.t_list.append([self.t_count, Account.activity[1], amount, self.balance])  ### 거래 내역 기록\n",
        "                print(f'출금하실 금액은 ', amount, '원입니다.' )\n",
        "                print(f'처리후 전액은 ', self.balance, '원입니다.' )\n",
        "\n",
        "            elif amount > self.balance:\n",
        "                print('계좌 잔고 이상으로 출금할 수 없습니다.' )\n",
        "            else:               ### 음수 또는 문자가 입력되는 경우\n",
        "                print(\"출금액을 재확인해 주십시오.\")\n",
        "\n",
        " ## Step 3. 거래 내역 출력\n",
        "    def deposit_history(self):\n",
        "        for trans in self.t_list:\n",
        "            if trans[1] == \"입금\" or trans[1] == \"이자\":  ### 입금 거래만 리스트화\n",
        "                print(trans[0], '회: ', trans[1],'금액', trans[2], '잔액: ', trans[3])\n",
        "        else:\n",
        "            pass\n",
        "\n",
        "    def withdrawal_history(self):\n",
        "        for trans in self.t_list:\n",
        "            if trans[1] == \"출금\":  ### 출금 거래만 리스트화\n",
        "                print(trans[0], '회: ', trans[1],'금액', trans[2], '잔액: ', trans[3])\n",
        "            else:\n",
        "                pass"
      ],
      "metadata": {
        "id": "yFCW2ShRiOch"
      },
      "execution_count": null,
      "outputs": []
    },
    {
      "cell_type": "code",
      "source": [
        "first = Account(\"차정은\", 10000)\n",
        "second = Account(\"박광석\", 30000000)\n",
        "third = Account(\"조웅제\", 50000000)"
      ],
      "metadata": {
        "id": "5JQ-c56IjNbe"
      },
      "execution_count": null,
      "outputs": []
    },
    {
      "cell_type": "code",
      "source": [
        "first.opening()\n",
        "second.opening()\n",
        "third.opening()"
      ],
      "metadata": {
        "colab": {
          "base_uri": "https://localhost:8080/"
        },
        "id": "9TQuFPNFltNP",
        "outputId": "c64e6d42-fcd4-46ef-b5a9-6e7a7ebdfb6e"
      },
      "execution_count": null,
      "outputs": [
        {
          "output_type": "stream",
          "name": "stdout",
          "text": [
            "[2, 7, 7, 2, 6, 5, 6, 8, 1, 8, 1]\n",
            "277-26-568181\n",
            "[1, 7, 4, 0, 3, 5, 3, 4, 3, 2, 2]\n",
            "174-03-534322\n",
            "[3, 5, 5, 6, 3, 6, 7, 8, 4, 6, 2]\n",
            "355-63-678462\n"
          ]
        }
      ]
    },
    {
      "cell_type": "code",
      "source": [
        "first.display_info()\n",
        "second.display_info()\n",
        "third.display_info()"
      ],
      "metadata": {
        "colab": {
          "base_uri": "https://localhost:8080/"
        },
        "id": "yWGM4bkltzoA",
        "outputId": "7cb192cd-95f6-4bff-8075-b82d9c753791"
      },
      "execution_count": null,
      "outputs": [
        {
          "output_type": "stream",
          "name": "stdout",
          "text": [
            "은행이름:  SC은행 예금주:  차정은 계좌번호:  277-26-568181 잔고:  10,000\n",
            "은행이름:  SC은행 예금주:  박광석 계좌번호:  174-03-534322 잔고:  30,000,000\n",
            "은행이름:  SC은행 예금주:  조웅제 계좌번호:  355-63-678462 잔고:  50,000,000\n"
          ]
        }
      ]
    },
    {
      "cell_type": "code",
      "source": [
        "Account.get_account_num()"
      ],
      "metadata": {
        "colab": {
          "base_uri": "https://localhost:8080/"
        },
        "id": "gvYcql4cDHRG",
        "outputId": "01aaf7b7-6c4d-4b66-e1d5-d70d24a2ef0b"
      },
      "execution_count": null,
      "outputs": [
        {
          "output_type": "stream",
          "name": "stdout",
          "text": [
            "총 개설된 계좌 수는: 3 개 입니다. \n",
            "은행이름:  SC은행 예금주:  박광석 계좌번호:  174-03-534322 잔고:  30000000\n",
            "은행이름:  SC은행 예금주:  조웅제 계좌번호:  355-63-678462 잔고:  50000000\n"
          ]
        }
      ]
    },
    {
      "cell_type": "code",
      "source": [
        "first.deposit(1000)\n",
        "first.deposit(0)\n",
        "first.withdrawal(500)\n",
        "first.withdrawal(50000)"
      ],
      "metadata": {
        "colab": {
          "base_uri": "https://localhost:8080/"
        },
        "id": "OctAvKK8ecaj",
        "outputId": "1de92d0e-e4fa-4e5e-f0b8-75decbcaf738"
      },
      "execution_count": null,
      "outputs": [
        {
          "output_type": "stream",
          "name": "stdout",
          "text": [
            "입금하실 금액은  1000 원입니다.\n",
            "처리후 전액은  11000 원입니다.\n",
            "최소 입금 가능액은 1원입니다.\n",
            "출금하실 금액은  500 원입니다.\n",
            "처리후 전액은  10500 원입니다.\n",
            "계좌 잔고 이상으로 출금할 수 없습니다.\n"
          ]
        }
      ]
    },
    {
      "cell_type": "code",
      "source": [
        "four = Account(\"채남병\", 20000)\n",
        "\n",
        "for i in range (10):\n",
        "    four.deposit(1000)"
      ],
      "metadata": {
        "colab": {
          "base_uri": "https://localhost:8080/"
        },
        "collapsed": true,
        "id": "JOaapdwQsAbN",
        "outputId": "bfa80f28-c868-43d1-db2c-d91f60f1546a"
      },
      "execution_count": null,
      "outputs": [
        {
          "output_type": "stream",
          "name": "stdout",
          "text": [
            "입금하실 금액은  1000 원입니다.\n",
            "처리후 전액은  21000 원입니다.\n",
            "입금하실 금액은  1000 원입니다.\n",
            "처리후 전액은  22000 원입니다.\n",
            "입금하실 금액은  1000 원입니다.\n",
            "처리후 전액은  23000 원입니다.\n",
            "입금하실 금액은  1000 원입니다.\n",
            "처리후 전액은  24000 원입니다.\n",
            "입금하실 금액은  1000 원입니다.\n",
            "처리후 전액은  25000 원입니다.\n",
            "250.0의 이자가 입금되었습니다.\n",
            "입금하실 금액은  1000 원입니다.\n",
            "처리후 전액은  26250.0 원입니다.\n",
            "입금하실 금액은  1000 원입니다.\n",
            "처리후 전액은  27250.0 원입니다.\n",
            "입금하실 금액은  1000 원입니다.\n",
            "처리후 전액은  28250.0 원입니다.\n",
            "입금하실 금액은  1000 원입니다.\n",
            "처리후 전액은  29250.0 원입니다.\n",
            "292.5의 이자가 입금되었습니다.\n",
            "입금하실 금액은  1000 원입니다.\n",
            "처리후 전액은  30542.5 원입니다.\n"
          ]
        }
      ]
    },
    {
      "cell_type": "code",
      "source": [
        "four.withdrawal(1000)\n",
        "four.withdrawal(500)\n",
        "four.deposit(30000)\n",
        "four.withdrawal(70000)\n",
        "four.withdrawal(500)"
      ],
      "metadata": {
        "colab": {
          "base_uri": "https://localhost:8080/"
        },
        "id": "0AaVwY2CAzYK",
        "outputId": "571bdfb9-dc23-48d3-f2ee-35e610911d7a"
      },
      "execution_count": null,
      "outputs": [
        {
          "output_type": "stream",
          "name": "stdout",
          "text": [
            "출금하실 금액은  1000 원입니다.\n",
            "처리후 전액은  29542.5 원입니다.\n",
            "출금하실 금액은  500 원입니다.\n",
            "처리후 전액은  29042.5 원입니다.\n",
            "입금하실 금액은  30000 원입니다.\n",
            "처리후 전액은  59042.5 원입니다.\n",
            "계좌 잔고 이상으로 출금할 수 없습니다.\n",
            "출금하실 금액은  500 원입니다.\n",
            "처리후 전액은  58542.5 원입니다.\n"
          ]
        }
      ]
    },
    {
      "cell_type": "code",
      "source": [
        "four.deposit_history()\n",
        "print('-'*50)\n",
        "four.withdrawal_history()"
      ],
      "metadata": {
        "colab": {
          "base_uri": "https://localhost:8080/"
        },
        "id": "qdjUIW7v8eBn",
        "outputId": "9c4d4479-97e9-4124-faef-0391b664447e"
      },
      "execution_count": null,
      "outputs": [
        {
          "output_type": "stream",
          "name": "stdout",
          "text": [
            "1 회:  입금 금액 1000 잔액:  21000\n",
            "2 회:  입금 금액 1000 잔액:  22000\n",
            "3 회:  입금 금액 1000 잔액:  23000\n",
            "4 회:  입금 금액 1000 잔액:  24000\n",
            "5 회:  입금 금액 1000 잔액:  25000\n",
            "6 회:  이자 금액 250.0 잔액:  25250.0\n",
            "7 회:  입금 금액 1000 잔액:  26250.0\n",
            "8 회:  입금 금액 1000 잔액:  27250.0\n",
            "9 회:  입금 금액 1000 잔액:  28250.0\n",
            "10 회:  입금 금액 1000 잔액:  29250.0\n",
            "11 회:  이자 금액 292.5 잔액:  29542.5\n",
            "12 회:  입금 금액 1000 잔액:  30542.5\n",
            "15 회:  입금 금액 30000 잔액:  59042.5\n",
            "--------------------------------------------------\n",
            "13 회:  출금 금액 1000 잔액:  29542.5\n",
            "14 회:  출금 금액 500 잔액:  29042.5\n",
            "16 회:  출금 금액 500 잔액:  58542.5\n"
          ]
        }
      ]
    },
    {
      "cell_type": "markdown",
      "source": [
        "메인퀘스트 2번: 간단한 자동사냥 RPG 만들기"
      ],
      "metadata": {
        "id": "fmVzk8WACTn-"
      }
    },
    {
      "cell_type": "code",
      "source": [
        "# 자동사냥  RPG 게임 만들기\n",
        "import random as r\n",
        "\n",
        "## Step 1. Character 클래스 만들기\n",
        "class Character: ### 클래스 이름\n",
        "\n",
        "    def __init__(self, name, level, energy, c_to_a, c_to_d):      ### 클래스 속성 (이름, 레벨, 체력, 공격력, 방어력)\n",
        "        self.name = name\n",
        "        self.level = level\n",
        "        self.energy = energy\n",
        "        self.c_to_a = attack\n",
        "        self.c_to_d = defend\n",
        "\n",
        "    def is_alive(self):   ### 인스턴스의 체력이 양수인지 여부 확인\n",
        "        return bool(self.energy >= 0)\n",
        "\n",
        "    def take_damage(self):\n",
        "        damage_1 = r.random()   ### 랜덤 숫자로 방어 데미지 생성\n",
        "        if self.c_to_d > damage_1:\n",
        "            pass\n",
        "        else:\n",
        "            self.energy -= (damage_1-self.c_to_d)\n",
        "\n",
        "    def attack_target(self):\n",
        "        damage_2 = r.randint(1,self.c_to_a)  ### 본인의 공격력 내에서 공격 데미지 생성\n",
        "        return damage_2\n",
        "\n",
        "## Step 2. Player 클래스 만들기\n",
        "class Player(Character):   ### Character 의 자식 클래스\n",
        "\n",
        "    def __init__(self, name, level, energy, c_to_a, c_to_d): ### Character 의 인스턴스 속성 상속받기\n",
        "        super().__init__(name, level, 0, 0, 0)\n",
        "        self.experience = experience\n",
        "        self.level = 1        ### 레벨 1로 초기화하기\n",
        "        self.energy = 100     ### 체력 100으로 초기화하기\n",
        "        self.c_to_a = 25      ### 공격력 25로 초기화하기\n",
        "        self.c_to_d = 5       ### 방어력 5로 초기화하기\n",
        "\n",
        "    def gain_experience(self): ### 인수로 받은 정수 만큼 경험치를 획득\n",
        "        value = int(input(\"경험력을 정수로 입력해 주십시오.\"))\n",
        "        if value >= 0:\n",
        "            self.experience += value\n",
        "        else:\n",
        "          print(\"입력 값을 재확인해 주십시오. 음수는 반영되지 않습니다.\")\n",
        "\n",
        "    def level_up(self):\n",
        "        if self.experience >=50:  ### 경험치가 50이상이면 레벨을 1, 공격력을 10, 방어력을 5씩 올려줌\n",
        "            self.level += 1\n",
        "            self.c_to_a += 10\n",
        "            self.c_to_d +=5\n",
        "        else:\n",
        "            pass\n",
        "\n",
        "## Step 3. Monster 클래스 만들기\n",
        "class Monster(Character): ### Character 의 자식 클래스\n",
        "\n",
        "    def __init__(self, name, level, energy, c_to_a, c_to_d): ### Character 의 인스턴스 속성 상속받기\n",
        "        super().__init__(name, level, 0, 0, 0)\n",
        "        self.energy = r.randint(10,30)*self.level   ### 레벨에 비례하는 체력 초기화\n",
        "        self.c_to_a = r.randint(5,20)*self.level   ### 레벨에 비례하는 공격력 초기화\n",
        "        self.c_to_d = r.randint(1,5)*self.level   ### 레벨에 비례하는 공격력 초기화\n",
        "\n",
        "## Step 4. Battle 함수 만들기\n",
        "def battle (self, Player, Monster):\n",
        "\n",
        "    while self.energy.Player > 0 and self.energy.Monster > 0: ### 상대방의 체력이 소진시까지 battle 진행\n",
        "        self.Player.take_damage()\n",
        "        self.Player.attack_damage()\n",
        "        self.Monster.attack_damage()\n",
        "        self.Monster.attack_damage()\n",
        "\n",
        "    if self.energy.self.Player > 0 and self.energy.self.Monster <= 0:  ### Player 가 살아남는 경우\n",
        "        self.experiece.self.Player += self.level.self.Monster * 20\n",
        "        self.Player.level_up()\n",
        "        print('전투 승리!')\n",
        "\n",
        "    else:\n",
        "      print('전투 패배')\n",
        "\n",
        "## Step 5. Main 함수 만들기\n",
        "\n",
        "monster_dict = {'슬라임': 1, '고블린': 2, '오크': 3}   ### 몬스터 딕셔너리 정의\n",
        "slime = Monster('슬라임', monster_dict['슬라임'])     ### 몬스터 슬라임 인스턴스 생성\n",
        "gobline = Monster('고블린', monster_dict['고블린'])   ### 몬스터 고블린 인스턴스 생성\n",
        "oak = Monster(\"oak\", monster_dict['오크'])   ### 몬스터 오크 인스턴스 생성\n",
        "\n",
        "def Main (self, Player, Monster):\n",
        "    for i in monster_dict:\n",
        "      return battle(self.Player,i)\n",
        "      if self.energy.self.Player < 0:\n",
        "        return\n",
        "        print(\"게임오버\")"
      ],
      "metadata": {
        "colab": {
          "base_uri": "https://localhost:8080/",
          "height": 211
        },
        "id": "0Qhab-2rE5jd",
        "outputId": "ed92b026-8240-4026-e636-ce355ff2a760"
      },
      "execution_count": 291,
      "outputs": [
        {
          "output_type": "error",
          "ename": "TypeError",
          "evalue": "Monster.__init__() missing 3 required positional arguments: 'energy', 'c_to_a', and 'c_to_d'",
          "traceback": [
            "\u001b[0;31m---------------------------------------------------------------------------\u001b[0m",
            "\u001b[0;31mTypeError\u001b[0m                                 Traceback (most recent call last)",
            "\u001b[0;32m<ipython-input-291-2cd1e7687786>\u001b[0m in \u001b[0;36m<cell line: 83>\u001b[0;34m()\u001b[0m\n\u001b[1;32m     81\u001b[0m \u001b[0;34m\u001b[0m\u001b[0m\n\u001b[1;32m     82\u001b[0m \u001b[0mmonster_dict\u001b[0m \u001b[0;34m=\u001b[0m \u001b[0;34m{\u001b[0m\u001b[0;34m'슬라임'\u001b[0m\u001b[0;34m:\u001b[0m \u001b[0;36m1\u001b[0m\u001b[0;34m,\u001b[0m \u001b[0;34m'고블린'\u001b[0m\u001b[0;34m:\u001b[0m \u001b[0;36m2\u001b[0m\u001b[0;34m,\u001b[0m \u001b[0;34m'오크'\u001b[0m\u001b[0;34m:\u001b[0m \u001b[0;36m3\u001b[0m\u001b[0;34m}\u001b[0m   \u001b[0;31m### 몬스터 딕셔너리 정의\u001b[0m\u001b[0;34m\u001b[0m\u001b[0;34m\u001b[0m\u001b[0m\n\u001b[0;32m---> 83\u001b[0;31m \u001b[0mslime\u001b[0m \u001b[0;34m=\u001b[0m \u001b[0mMonster\u001b[0m\u001b[0;34m(\u001b[0m\u001b[0;34m'슬라임'\u001b[0m\u001b[0;34m,\u001b[0m \u001b[0mmonster_dict\u001b[0m\u001b[0;34m[\u001b[0m\u001b[0;34m'슬라임'\u001b[0m\u001b[0;34m]\u001b[0m\u001b[0;34m)\u001b[0m     \u001b[0;31m### 몬스터 슬라임 인스턴스 생성\u001b[0m\u001b[0;34m\u001b[0m\u001b[0;34m\u001b[0m\u001b[0m\n\u001b[0m\u001b[1;32m     84\u001b[0m \u001b[0mgobline\u001b[0m \u001b[0;34m=\u001b[0m \u001b[0mMonster\u001b[0m\u001b[0;34m(\u001b[0m\u001b[0;34m'고블린'\u001b[0m\u001b[0;34m,\u001b[0m \u001b[0mmonster_dict\u001b[0m\u001b[0;34m[\u001b[0m\u001b[0;34m'고블린'\u001b[0m\u001b[0;34m]\u001b[0m\u001b[0;34m)\u001b[0m   \u001b[0;31m### 몬스터 고블린 인스턴스 생성\u001b[0m\u001b[0;34m\u001b[0m\u001b[0;34m\u001b[0m\u001b[0m\n\u001b[1;32m     85\u001b[0m \u001b[0moak\u001b[0m \u001b[0;34m=\u001b[0m \u001b[0mMonster\u001b[0m\u001b[0;34m(\u001b[0m\u001b[0;34m\"oak\"\u001b[0m\u001b[0;34m,\u001b[0m \u001b[0mmonster_dict\u001b[0m\u001b[0;34m[\u001b[0m\u001b[0;34m'오크'\u001b[0m\u001b[0;34m]\u001b[0m\u001b[0;34m)\u001b[0m   \u001b[0;31m### 몬스터 오크 인스턴스 생성\u001b[0m\u001b[0;34m\u001b[0m\u001b[0;34m\u001b[0m\u001b[0m\n",
            "\u001b[0;31mTypeError\u001b[0m: Monster.__init__() missing 3 required positional arguments: 'energy', 'c_to_a', and 'c_to_d'"
          ]
        }
      ]
    }
  ]
}