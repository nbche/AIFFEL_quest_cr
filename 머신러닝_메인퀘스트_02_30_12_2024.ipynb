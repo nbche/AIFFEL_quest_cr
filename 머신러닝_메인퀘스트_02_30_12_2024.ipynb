{
  "nbformat": 4,
  "nbformat_minor": 0,
  "metadata": {
    "colab": {
      "provenance": [],
      "authorship_tag": "ABX9TyNWr1LRr1T1HUogQdQEnFtN",
      "include_colab_link": true
    },
    "kernelspec": {
      "name": "python3",
      "display_name": "Python 3"
    },
    "language_info": {
      "name": "python"
    }
  },
  "cells": [
    {
      "cell_type": "markdown",
      "metadata": {
        "id": "view-in-github",
        "colab_type": "text"
      },
      "source": [
        "<a href=\"https://colab.research.google.com/github/nbche/AIFFEL_quest_cr/blob/main/%EB%A8%B8%EC%8B%A0%EB%9F%AC%EB%8B%9D_%EB%A9%94%EC%9D%B8%ED%80%98%EC%8A%A4%ED%8A%B8_02_30_12_2024.ipynb\" target=\"_parent\"><img src=\"https://colab.research.google.com/assets/colab-badge.svg\" alt=\"Open In Colab\"/></a>"
      ]
    },
    {
      "cell_type": "markdown",
      "source": [
        "가랏 몬스터 - 머신러닝 메이 퀘스트 02 는 아래의 내용으로 구성됨\n",
        "\n",
        "Step 1. 데이터 개괄\n",
        "\n",
        "Step 2. 기본 모델 구현 및 분석\n",
        "\n",
        "Step 3 & 4. 탐색적 데이터 분석 & 데이터 전처리\n",
        "\n",
        "Step 5. 베이스라인 모델 구현 및 분석\n",
        "\n",
        "Step 6. 비교 모델 모델 구현 및 분석\n"
      ],
      "metadata": {
        "id": "83HPRgmiKvZo"
      }
    },
    {
      "cell_type": "markdown",
      "source": [
        "--------------------------------------------------------------------------------------------------------------------------------------------"
      ],
      "metadata": {
        "id": "dfXFe6lzPK4T"
      }
    },
    {
      "cell_type": "markdown",
      "source": [
        "**< Step 1. 데이터 개괄 >**\n",
        "\n",
        "- 개체수: 721 Pokemon\n",
        "- 변수 개수: 총 11개\n",
        "(#, Name, Type 1, Type 2, Total, HP, Attack, Defense, SP Atk, SP Def. Speed)\n",
        "- 전체 데이터 세트 : 800*13 임을 알 수 있음 (Step 1-2 참조)\n",
        "- 데이터 세트 분류 : 전설의 포켓몬과 일반 포켓몬으로 구분. 총 65개가 전설이며, 735개가 일반 포켓몬임 (Step 1-3 참조)"
      ],
      "metadata": {
        "id": "BY4GfM-mM4sx"
      }
    },
    {
      "cell_type": "code",
      "execution_count": null,
      "metadata": {
        "id": "YKLIKQyFKaJD"
      },
      "outputs": [],
      "source": [
        "## Step 1-1. 라이브러리 가져오기\n",
        "import numpy as np\n",
        "import pandas as pd\n",
        "import seaborn as sns\n",
        "import matplotlib.pyplot as plt"
      ]
    },
    {
      "cell_type": "code",
      "source": [
        "## Step 1-2. 데이터 불러오기 & 복사하기\n",
        "original_data = pd.read_csv('Pokemon.csv') ### 데이터 불러오기 - Original Data 는 기본 모델에서 사용 예정\n",
        "pokemon = original_data.copy()             ### 데이터 복사하기 - pokemon 자료는 베이스라인과 비교 모델에서 사용 예정임\n",
        "print(pokemon.shape)"
      ],
      "metadata": {
        "colab": {
          "base_uri": "https://localhost:8080/"
        },
        "id": "a_R-uS7ZRlz2",
        "outputId": "910c1c7e-0f90-4938-9d66-868f98470167",
        "collapsed": true
      },
      "execution_count": null,
      "outputs": [
        {
          "output_type": "stream",
          "name": "stdout",
          "text": [
            "(800, 13)\n"
          ]
        }
      ]
    },
    {
      "cell_type": "code",
      "source": [
        "## Step 1-3. 데이터 셋트를 전설과 일반 그룹으로 나누기\n",
        "legendary = pokemon[pokemon[\"Legendary\"] == True].reset_index(drop=True)   ### 전설의 포켓몬 그룹\n",
        "print(legendary.shape)\n",
        "print(legendary.head())\n",
        "print('-'*50)\n",
        "ordinary = pokemon[pokemon[\"Legendary\"] == False].reset_index(drop=True)   ### 일반 포켓몬 그룹\n",
        "print(ordinary.shape)\n",
        "print(ordinary.head())"
      ],
      "metadata": {
        "colab": {
          "base_uri": "https://localhost:8080/"
        },
        "id": "sdAmw2BjTCpN",
        "outputId": "207d3a79-4bbf-4010-af2d-340cf52181f8",
        "collapsed": true
      },
      "execution_count": null,
      "outputs": [
        {
          "output_type": "stream",
          "name": "stdout",
          "text": [
            "(65, 13)\n",
            "     #                 Name    Type 1    Type 2  Total   HP  Attack  Defense  \\\n",
            "0  144             Articuno       Ice    Flying    580   90      85      100   \n",
            "1  145               Zapdos  Electric    Flying    580   90      90       85   \n",
            "2  146              Moltres      Fire    Flying    580   90     100       90   \n",
            "3  150               Mewtwo   Psychic       NaN    680  106     110       90   \n",
            "4  150  MewtwoMega Mewtwo X   Psychic  Fighting    780  106     190      100   \n",
            "\n",
            "   Sp. Atk  Sp. Def  Speed  Generation  Legendary  \n",
            "0       95      125     85           1       True  \n",
            "1      125       90    100           1       True  \n",
            "2      125       85     90           1       True  \n",
            "3      154       90    130           1       True  \n",
            "4      154      100    130           1       True  \n",
            "--------------------------------------------------\n",
            "(735, 13)\n",
            "   #                   Name Type 1  Type 2  Total  HP  Attack  Defense  \\\n",
            "0  1              Bulbasaur  Grass  Poison    318  45      49       49   \n",
            "1  2                Ivysaur  Grass  Poison    405  60      62       63   \n",
            "2  3               Venusaur  Grass  Poison    525  80      82       83   \n",
            "3  3  VenusaurMega Venusaur  Grass  Poison    625  80     100      123   \n",
            "4  4             Charmander   Fire     NaN    309  39      52       43   \n",
            "\n",
            "   Sp. Atk  Sp. Def  Speed  Generation  Legendary  \n",
            "0       65       65     45           1      False  \n",
            "1       80       80     60           1      False  \n",
            "2      100      100     80           1      False  \n",
            "3      122      120     80           1      False  \n",
            "4       60       50     65           1      False  \n"
          ]
        }
      ]
    },
    {
      "cell_type": "markdown",
      "source": [
        "--------------------------------------------------------------------------------------------------------------------------------------------------------------\n",
        "**< Step 2. 기본 모델 (Basic model) 구현 및 분석 >**\n",
        "- 모델: Decesion Tree\n",
        "- 사용 모듈: Scikit-learn\n",
        "- 분석 결과는 정확도가 95% 를 보이나, 재현율이 62% 로 False Negative의 값이 크게 나타남 (Step 2-5 참조)"
      ],
      "metadata": {
        "id": "0LAciK2kRMGX"
      }
    },
    {
      "cell_type": "code",
      "source": [
        "## Step 2-1. Features 과 Taget 설정\n",
        "print(original_data.columns)\n",
        "print(original_data.head())\n",
        "features = ['Total', 'HP', 'Attack', 'Defense', 'Sp. Atk', 'Sp. Def', 'Speed', 'Generation']\n",
        "### 의미 없는 컬럼인 '#'와 문자열 데이터인 Name, Type 1, Type 2 데이터는 제외하고 features 를 8개로 선정함\n",
        "target = 'Legendary'   ### 구분의 타겟을 선정"
      ],
      "metadata": {
        "colab": {
          "base_uri": "https://localhost:8080/"
        },
        "id": "eTLFsjCtRUdk",
        "outputId": "beaa787b-0ca2-44ae-da05-8aef3876aae6",
        "collapsed": true
      },
      "execution_count": null,
      "outputs": [
        {
          "output_type": "stream",
          "name": "stdout",
          "text": [
            "Index(['#', 'Name', 'Type 1', 'Type 2', 'Total', 'HP', 'Attack', 'Defense',\n",
            "       'Sp. Atk', 'Sp. Def', 'Speed', 'Generation', 'Legendary'],\n",
            "      dtype='object')\n",
            "   #                   Name Type 1  Type 2  Total  HP  Attack  Defense  \\\n",
            "0  1              Bulbasaur  Grass  Poison    318  45      49       49   \n",
            "1  2                Ivysaur  Grass  Poison    405  60      62       63   \n",
            "2  3               Venusaur  Grass  Poison    525  80      82       83   \n",
            "3  3  VenusaurMega Venusaur  Grass  Poison    625  80     100      123   \n",
            "4  4             Charmander   Fire     NaN    309  39      52       43   \n",
            "\n",
            "   Sp. Atk  Sp. Def  Speed  Generation  Legendary  \n",
            "0       65       65     45           1      False  \n",
            "1       80       80     60           1      False  \n",
            "2      100      100     80           1      False  \n",
            "3      122      120     80           1      False  \n",
            "4       60       50     65           1      False  \n"
          ]
        }
      ]
    },
    {
      "cell_type": "code",
      "source": [
        "## Step 2-2. Fetaures 과 Target 데이터생성\n",
        "X_b = original_data[features] ### 'original_data'에서 'features' 컬럼에 해당하는 데이터를 변수 'X'에 저장. 알파벳 b 는 basic 모델을 위한 데이터임을 뜻함.\n",
        "print(X_b.shape)\n",
        "print(X_b.head())\n",
        "\n",
        "y_b = original_data[target] ### 'target' 컬럼의 데이터를 변수 'y'에 저장함. 알파벳 b 는 basic 모델을 위한 데이터임을 뜻함.\n",
        "print(y_b.shape)\n",
        "print(y_b.head())"
      ],
      "metadata": {
        "colab": {
          "base_uri": "https://localhost:8080/"
        },
        "collapsed": true,
        "id": "qH6n3Q7oRVRY",
        "outputId": "b25faf4d-dc57-4f1a-8542-e1bccd419a76"
      },
      "execution_count": null,
      "outputs": [
        {
          "output_type": "stream",
          "name": "stdout",
          "text": [
            "(800, 8)\n",
            "   Total  HP  Attack  Defense  Sp. Atk  Sp. Def  Speed  Generation\n",
            "0    318  45      49       49       65       65     45           1\n",
            "1    405  60      62       63       80       80     60           1\n",
            "2    525  80      82       83      100      100     80           1\n",
            "3    625  80     100      123      122      120     80           1\n",
            "4    309  39      52       43       60       50     65           1\n",
            "(800,)\n",
            "0    False\n",
            "1    False\n",
            "2    False\n",
            "3    False\n",
            "4    False\n",
            "Name: Legendary, dtype: bool\n"
          ]
        }
      ]
    },
    {
      "cell_type": "code",
      "source": [
        "## Step 2-3. 기본 모델을 Train / Test 그룹으로 구분\n",
        "from sklearn.model_selection import train_test_split\n",
        "\n",
        "X_b_train, X_b_test, y_b_train, y_b_test = train_test_split(X_b, y_b, test_size=0.2, random_state=15)\n",
        "print(X_b_train.shape, y_b_train.shape)\n",
        "print(X_b_test.shape, y_b_test.shape)"
      ],
      "metadata": {
        "colab": {
          "base_uri": "https://localhost:8080/"
        },
        "id": "LesttuidRU_g",
        "outputId": "a927c2e6-39b6-447c-e552-75920ea73d9b"
      },
      "execution_count": null,
      "outputs": [
        {
          "output_type": "stream",
          "name": "stdout",
          "text": [
            "(640, 8) (640,)\n",
            "(160, 8) (160,)\n"
          ]
        }
      ]
    },
    {
      "cell_type": "code",
      "source": [
        "## Step 2-4. 기본 모델을 DecisionTree 방식을 통해 훈련/예측\n",
        "from sklearn.tree import DecisionTreeClassifier\n",
        "model = DecisionTreeClassifier(random_state=25)\n",
        "model.fit(X_b_train, y_b_train)\n",
        "y_b_pred = model.predict(X_b_test)"
      ],
      "metadata": {
        "id": "o2kWNo-eUuka"
      },
      "execution_count": null,
      "outputs": []
    },
    {
      "cell_type": "code",
      "source": [
        "## Step 2-5. 예측 결과 분석\n",
        "from sklearn.metrics import confusion_matrix  ### confusion matrix 사용\n",
        "print(confusion_matrix(y_b_test, y_b_pred))\n",
        "print('*'*20)\n",
        "from sklearn.metrics import accuracy_score ## accuracy_score 함수를 불러오기\n",
        "accuracy_b = accuracy_score(y_b_test, y_b_pred) ## 정확도 측정\n",
        "print(accuracy_b)\n",
        "print('*'*20)\n",
        "from sklearn.metrics import classification_report   ### classification report 사용\n",
        "print(classification_report(y_b_test, y_b_pred))\n",
        "print('*'*20)"
      ],
      "metadata": {
        "colab": {
          "base_uri": "https://localhost:8080/"
        },
        "id": "dM8UZbwOVIe5",
        "outputId": "cfc7f4ab-164d-4a9d-8287-ed03e9cce350"
      },
      "execution_count": null,
      "outputs": [
        {
          "output_type": "stream",
          "name": "stdout",
          "text": [
            "[[144   3]\n",
            " [  5   8]]\n",
            "********************\n",
            "0.95\n",
            "********************\n",
            "              precision    recall  f1-score   support\n",
            "\n",
            "       False       0.97      0.98      0.97       147\n",
            "        True       0.73      0.62      0.67        13\n",
            "\n",
            "    accuracy                           0.95       160\n",
            "   macro avg       0.85      0.80      0.82       160\n",
            "weighted avg       0.95      0.95      0.95       160\n",
            "\n",
            "********************\n"
          ]
        }
      ]
    },
    {
      "cell_type": "markdown",
      "source": [
        "#### Step 2-6. 예측 결과 분석"
      ],
      "metadata": {
        "id": "9C5a8g6klyiS"
      }
    },
    {
      "cell_type": "markdown",
      "source": [
        "--------------------------------------------------------------------------------------------------------------------------------------------------------------\n",
        "**< Step 3. 탐색적 데이터 분석 & 전처리 >**\n",
        "\n",
        "1) 데이터 번호 (#)\n",
        "전체 데이터는 총 800개인데 #컬럼을 집합으로 만든 자료형은 그보다 작은 721개임. 따라서 데이터번호는 unique하지 않으며 index로 쓸 수도 없음\n",
        "\n",
        "2) 이름\n",
        "- 중복을 제거한 유일성을 조사한 결과, 전체 데이터 사이즈 800 개와 동일함을 알 수 있음  (Step 3-1 참조)\n",
        "- 이름이 반복적으로 사용되는 경향이 있고, 전설의 포켓몬 이름의 반복 사용시, 이를 사용하는 포켓몬도 전설의 포켓몬임\n",
        "- 전설의 포켓몬은 이름이 10자리 이상 (특히 16자리) 이상일 확률이 41.54% 임 (Step 3-1 참조)\n",
        "- 전설의 포켓몬은 이름 중에 어떤 특정 단어 (예를 들면 Forme) 를 공유하는 경우가 있음. 특정 단어를 토큰이라 지칭토록 함 (Step 3-3 참조)\n",
        "\n",
        "3) 속성 (Type 1, 2)\n",
        "- Type 1에는 총 18가지, Type 2에는 총 19가지의 속성이 들어가 있으며, 둘의 차집합은 NaN 인 것으로, NaN 데이터 외의 나머지 18가지 속성은 Type 1, Type 2 모두 같다고 결론 내림 (Step 3-2 참조)\n",
        "- 속성의 범주형 데이터를 One-hot coding 방식으로 전처리하기 (Step 3-4 참조)\n",
        "\n",
        "\n",
        "4) Total 값\n",
        "- Total 값은 일반 포켓몬이 전설의 포켓몬보다 두배 정도로 다양함\n",
        "- 한 포켓몬의 Total 속성값이 전설의 포켓몬의 값들 집합 (총 9개의 값) 에 포함되는지 여부는 전설의 포켓몬임을 결정하는 데에 영향을 미침\n",
        "- 전설의 포켓몬의 Total 값 중에는 일반 포켓몬이 가지지 못하는 Total값이 존재함 ex) 660, 680, 720, 770, 780\n",
        "- 즉, Total값은 legendary인지 아닌지를 예측하는 데에 중요한 컬럼일 수 있음\n",
        "\n"
      ],
      "metadata": {
        "id": "Ik5kWfJvW_uM"
      }
    },
    {
      "cell_type": "code",
      "source": [
        "## Step 3-1. 변수 \"이름\"의 검토\n",
        "print(len(set(pokemon[\"Name\"])))    ### 전체 데이터 사이즈인 800과 동일함을 확인 가능.\n",
        "pokemon['name_count'] = pokemon['Name'].apply(lambda x: len(x)) ### 포켓몬 이름 길이 확인\n",
        "pokemon['long_name'] = pokemon['name_count'] > 10  ## 이름이 10자리 이상인 경우, long_name 으로 새로운 변수 생성"
      ],
      "metadata": {
        "id": "yq3dS8S9Xuwr",
        "colab": {
          "base_uri": "https://localhost:8080/"
        },
        "outputId": "e4fe7b3d-b823-448a-ce54-01c8c6a2159c"
      },
      "execution_count": null,
      "outputs": [
        {
          "output_type": "stream",
          "name": "stdout",
          "text": [
            "800\n"
          ]
        }
      ]
    },
    {
      "cell_type": "code",
      "source": [
        "## Step 3-2. 변수 \"속성 (Type 1, 2)\"의 검토\n",
        "print(list(set(pokemon[\"Type 1\"])))   ### Type 1 의 변수값\n",
        "print(len(list(set(pokemon[\"Type 1\"]))))   ### Type 1 의 변수 개수\n",
        "print(list(set(pokemon[\"Type 2\"])))   ### Type 2 의 변수값\n",
        "print(len(list(set(pokemon[\"Type 2\"]))))   ### Type 1 의 변수 개수\n",
        "\n",
        "len(list(set(pokemon[\"Type 1\"]))), len(list(set(pokemon[\"Type 2\"])))\n",
        "print(set(pokemon[\"Type 2\"]) - set(pokemon[\"Type 1\"])) ### Type 1 과 2 의 차집합 확인"
      ],
      "metadata": {
        "colab": {
          "base_uri": "https://localhost:8080/"
        },
        "id": "uFfoIyyqYs9e",
        "outputId": "5e960f33-1343-45b4-b8cc-14002b585738"
      },
      "execution_count": null,
      "outputs": [
        {
          "output_type": "stream",
          "name": "stdout",
          "text": [
            "['Dragon', 'Grass', 'Ground', 'Poison', 'Fairy', 'Water', 'Psychic', 'Flying', 'Steel', 'Dark', 'Fire', 'Fighting', 'Normal', 'Rock', 'Electric', 'Bug', 'Ghost', 'Ice']\n",
            "18\n",
            "[nan, 'Ground', 'Steel', 'Grass', 'Dark', 'Fighting', 'Bug', 'Fire', 'Dragon', 'Poison', 'Fairy', 'Psychic', 'Flying', 'Rock', 'Ghost', 'Water', 'Normal', 'Electric', 'Ice']\n",
            "19\n",
            "{nan}\n"
          ]
        }
      ]
    },
    {
      "cell_type": "code",
      "source": [
        "## Step 3-3-1. 변수 \"이름\" 전처리\n",
        "### 목표는 문자 (즉, 알파벳)으로 구성된 값을 갖는 것임\n",
        "pokemon[\"Name_nospace\"] = pokemon[\"Name\"].apply(lambda i: i.replace(\" \", \"\"))  ###알파벳 체크를 위해 띄어쓰기가 없는 컬럼을 따로 만들어줌\n",
        "pokemon[\"name_isalpha\"] = pokemon[\"Name_nospace\"].apply(lambda i: i.isalpha()) ### isalpha 를 통해 알파벳으로만 구성여부를 참/거짓으로 확인함\n",
        "print(pokemon[pokemon[\"name_isalpha\"] == False].shape)\n",
        "pokemon[pokemon[\"name_isalpha\"] == False]"
      ],
      "metadata": {
        "colab": {
          "base_uri": "https://localhost:8080/",
          "height": 349
        },
        "id": "B1PIiy3nacj0",
        "outputId": "d5924646-310f-480d-ddf0-5471659487ea",
        "collapsed": true
      },
      "execution_count": null,
      "outputs": [
        {
          "output_type": "stream",
          "name": "stdout",
          "text": [
            "(9, 17)\n"
          ]
        },
        {
          "output_type": "execute_result",
          "data": {
            "text/plain": [
              "       #              Name   Type 1  Type 2  Total   HP  Attack  Defense  \\\n",
              "34    29          Nidoran♀   Poison     NaN    275   55      47       52   \n",
              "37    32          Nidoran♂   Poison     NaN    273   46      57       40   \n",
              "90    83        Farfetch'd   Normal  Flying    352   52      65       55   \n",
              "131  122          Mr. Mime  Psychic   Fairy    460   40      45       65   \n",
              "252  233          Porygon2   Normal     NaN    515   85      80       90   \n",
              "270  250             Ho-oh     Fire  Flying    680  106     130       90   \n",
              "487  439          Mime Jr.  Psychic   Fairy    310   20      25       45   \n",
              "525  474         Porygon-Z   Normal     NaN    535   85      80       70   \n",
              "794  718  Zygarde50% Forme   Dragon  Ground    600  108     100      121   \n",
              "\n",
              "     Sp. Atk  Sp. Def  Speed  Generation  Legendary  name_count  long_name  \\\n",
              "34        40       40     41           1      False           8      False   \n",
              "37        40       40     50           1      False           8      False   \n",
              "90        58       62     60           1      False          10      False   \n",
              "131      100      120     90           1      False           8      False   \n",
              "252      105       95     60           2      False           8      False   \n",
              "270      110      154     90           2       True           5      False   \n",
              "487       70       90     60           4      False           8      False   \n",
              "525      135       75     90           4      False           9      False   \n",
              "794       81       95     95           6       True          16       True   \n",
              "\n",
              "        Name_nospace  name_isalpha  \n",
              "34          Nidoran♀         False  \n",
              "37          Nidoran♂         False  \n",
              "90        Farfetch'd         False  \n",
              "131          Mr.Mime         False  \n",
              "252         Porygon2         False  \n",
              "270            Ho-oh         False  \n",
              "487          MimeJr.         False  \n",
              "525        Porygon-Z         False  \n",
              "794  Zygarde50%Forme         False  "
            ],
            "text/html": [
              "\n",
              "  <div id=\"df-14813205-e41f-4230-ad2b-deea9aa3baf5\" class=\"colab-df-container\">\n",
              "    <div>\n",
              "<style scoped>\n",
              "    .dataframe tbody tr th:only-of-type {\n",
              "        vertical-align: middle;\n",
              "    }\n",
              "\n",
              "    .dataframe tbody tr th {\n",
              "        vertical-align: top;\n",
              "    }\n",
              "\n",
              "    .dataframe thead th {\n",
              "        text-align: right;\n",
              "    }\n",
              "</style>\n",
              "<table border=\"1\" class=\"dataframe\">\n",
              "  <thead>\n",
              "    <tr style=\"text-align: right;\">\n",
              "      <th></th>\n",
              "      <th>#</th>\n",
              "      <th>Name</th>\n",
              "      <th>Type 1</th>\n",
              "      <th>Type 2</th>\n",
              "      <th>Total</th>\n",
              "      <th>HP</th>\n",
              "      <th>Attack</th>\n",
              "      <th>Defense</th>\n",
              "      <th>Sp. Atk</th>\n",
              "      <th>Sp. Def</th>\n",
              "      <th>Speed</th>\n",
              "      <th>Generation</th>\n",
              "      <th>Legendary</th>\n",
              "      <th>name_count</th>\n",
              "      <th>long_name</th>\n",
              "      <th>Name_nospace</th>\n",
              "      <th>name_isalpha</th>\n",
              "    </tr>\n",
              "  </thead>\n",
              "  <tbody>\n",
              "    <tr>\n",
              "      <th>34</th>\n",
              "      <td>29</td>\n",
              "      <td>Nidoran♀</td>\n",
              "      <td>Poison</td>\n",
              "      <td>NaN</td>\n",
              "      <td>275</td>\n",
              "      <td>55</td>\n",
              "      <td>47</td>\n",
              "      <td>52</td>\n",
              "      <td>40</td>\n",
              "      <td>40</td>\n",
              "      <td>41</td>\n",
              "      <td>1</td>\n",
              "      <td>False</td>\n",
              "      <td>8</td>\n",
              "      <td>False</td>\n",
              "      <td>Nidoran♀</td>\n",
              "      <td>False</td>\n",
              "    </tr>\n",
              "    <tr>\n",
              "      <th>37</th>\n",
              "      <td>32</td>\n",
              "      <td>Nidoran♂</td>\n",
              "      <td>Poison</td>\n",
              "      <td>NaN</td>\n",
              "      <td>273</td>\n",
              "      <td>46</td>\n",
              "      <td>57</td>\n",
              "      <td>40</td>\n",
              "      <td>40</td>\n",
              "      <td>40</td>\n",
              "      <td>50</td>\n",
              "      <td>1</td>\n",
              "      <td>False</td>\n",
              "      <td>8</td>\n",
              "      <td>False</td>\n",
              "      <td>Nidoran♂</td>\n",
              "      <td>False</td>\n",
              "    </tr>\n",
              "    <tr>\n",
              "      <th>90</th>\n",
              "      <td>83</td>\n",
              "      <td>Farfetch'd</td>\n",
              "      <td>Normal</td>\n",
              "      <td>Flying</td>\n",
              "      <td>352</td>\n",
              "      <td>52</td>\n",
              "      <td>65</td>\n",
              "      <td>55</td>\n",
              "      <td>58</td>\n",
              "      <td>62</td>\n",
              "      <td>60</td>\n",
              "      <td>1</td>\n",
              "      <td>False</td>\n",
              "      <td>10</td>\n",
              "      <td>False</td>\n",
              "      <td>Farfetch'd</td>\n",
              "      <td>False</td>\n",
              "    </tr>\n",
              "    <tr>\n",
              "      <th>131</th>\n",
              "      <td>122</td>\n",
              "      <td>Mr. Mime</td>\n",
              "      <td>Psychic</td>\n",
              "      <td>Fairy</td>\n",
              "      <td>460</td>\n",
              "      <td>40</td>\n",
              "      <td>45</td>\n",
              "      <td>65</td>\n",
              "      <td>100</td>\n",
              "      <td>120</td>\n",
              "      <td>90</td>\n",
              "      <td>1</td>\n",
              "      <td>False</td>\n",
              "      <td>8</td>\n",
              "      <td>False</td>\n",
              "      <td>Mr.Mime</td>\n",
              "      <td>False</td>\n",
              "    </tr>\n",
              "    <tr>\n",
              "      <th>252</th>\n",
              "      <td>233</td>\n",
              "      <td>Porygon2</td>\n",
              "      <td>Normal</td>\n",
              "      <td>NaN</td>\n",
              "      <td>515</td>\n",
              "      <td>85</td>\n",
              "      <td>80</td>\n",
              "      <td>90</td>\n",
              "      <td>105</td>\n",
              "      <td>95</td>\n",
              "      <td>60</td>\n",
              "      <td>2</td>\n",
              "      <td>False</td>\n",
              "      <td>8</td>\n",
              "      <td>False</td>\n",
              "      <td>Porygon2</td>\n",
              "      <td>False</td>\n",
              "    </tr>\n",
              "    <tr>\n",
              "      <th>270</th>\n",
              "      <td>250</td>\n",
              "      <td>Ho-oh</td>\n",
              "      <td>Fire</td>\n",
              "      <td>Flying</td>\n",
              "      <td>680</td>\n",
              "      <td>106</td>\n",
              "      <td>130</td>\n",
              "      <td>90</td>\n",
              "      <td>110</td>\n",
              "      <td>154</td>\n",
              "      <td>90</td>\n",
              "      <td>2</td>\n",
              "      <td>True</td>\n",
              "      <td>5</td>\n",
              "      <td>False</td>\n",
              "      <td>Ho-oh</td>\n",
              "      <td>False</td>\n",
              "    </tr>\n",
              "    <tr>\n",
              "      <th>487</th>\n",
              "      <td>439</td>\n",
              "      <td>Mime Jr.</td>\n",
              "      <td>Psychic</td>\n",
              "      <td>Fairy</td>\n",
              "      <td>310</td>\n",
              "      <td>20</td>\n",
              "      <td>25</td>\n",
              "      <td>45</td>\n",
              "      <td>70</td>\n",
              "      <td>90</td>\n",
              "      <td>60</td>\n",
              "      <td>4</td>\n",
              "      <td>False</td>\n",
              "      <td>8</td>\n",
              "      <td>False</td>\n",
              "      <td>MimeJr.</td>\n",
              "      <td>False</td>\n",
              "    </tr>\n",
              "    <tr>\n",
              "      <th>525</th>\n",
              "      <td>474</td>\n",
              "      <td>Porygon-Z</td>\n",
              "      <td>Normal</td>\n",
              "      <td>NaN</td>\n",
              "      <td>535</td>\n",
              "      <td>85</td>\n",
              "      <td>80</td>\n",
              "      <td>70</td>\n",
              "      <td>135</td>\n",
              "      <td>75</td>\n",
              "      <td>90</td>\n",
              "      <td>4</td>\n",
              "      <td>False</td>\n",
              "      <td>9</td>\n",
              "      <td>False</td>\n",
              "      <td>Porygon-Z</td>\n",
              "      <td>False</td>\n",
              "    </tr>\n",
              "    <tr>\n",
              "      <th>794</th>\n",
              "      <td>718</td>\n",
              "      <td>Zygarde50% Forme</td>\n",
              "      <td>Dragon</td>\n",
              "      <td>Ground</td>\n",
              "      <td>600</td>\n",
              "      <td>108</td>\n",
              "      <td>100</td>\n",
              "      <td>121</td>\n",
              "      <td>81</td>\n",
              "      <td>95</td>\n",
              "      <td>95</td>\n",
              "      <td>6</td>\n",
              "      <td>True</td>\n",
              "      <td>16</td>\n",
              "      <td>True</td>\n",
              "      <td>Zygarde50%Forme</td>\n",
              "      <td>False</td>\n",
              "    </tr>\n",
              "  </tbody>\n",
              "</table>\n",
              "</div>\n",
              "    <div class=\"colab-df-buttons\">\n",
              "\n",
              "  <div class=\"colab-df-container\">\n",
              "    <button class=\"colab-df-convert\" onclick=\"convertToInteractive('df-14813205-e41f-4230-ad2b-deea9aa3baf5')\"\n",
              "            title=\"Convert this dataframe to an interactive table.\"\n",
              "            style=\"display:none;\">\n",
              "\n",
              "  <svg xmlns=\"http://www.w3.org/2000/svg\" height=\"24px\" viewBox=\"0 -960 960 960\">\n",
              "    <path d=\"M120-120v-720h720v720H120Zm60-500h600v-160H180v160Zm220 220h160v-160H400v160Zm0 220h160v-160H400v160ZM180-400h160v-160H180v160Zm440 0h160v-160H620v160ZM180-180h160v-160H180v160Zm440 0h160v-160H620v160Z\"/>\n",
              "  </svg>\n",
              "    </button>\n",
              "\n",
              "  <style>\n",
              "    .colab-df-container {\n",
              "      display:flex;\n",
              "      gap: 12px;\n",
              "    }\n",
              "\n",
              "    .colab-df-convert {\n",
              "      background-color: #E8F0FE;\n",
              "      border: none;\n",
              "      border-radius: 50%;\n",
              "      cursor: pointer;\n",
              "      display: none;\n",
              "      fill: #1967D2;\n",
              "      height: 32px;\n",
              "      padding: 0 0 0 0;\n",
              "      width: 32px;\n",
              "    }\n",
              "\n",
              "    .colab-df-convert:hover {\n",
              "      background-color: #E2EBFA;\n",
              "      box-shadow: 0px 1px 2px rgba(60, 64, 67, 0.3), 0px 1px 3px 1px rgba(60, 64, 67, 0.15);\n",
              "      fill: #174EA6;\n",
              "    }\n",
              "\n",
              "    .colab-df-buttons div {\n",
              "      margin-bottom: 4px;\n",
              "    }\n",
              "\n",
              "    [theme=dark] .colab-df-convert {\n",
              "      background-color: #3B4455;\n",
              "      fill: #D2E3FC;\n",
              "    }\n",
              "\n",
              "    [theme=dark] .colab-df-convert:hover {\n",
              "      background-color: #434B5C;\n",
              "      box-shadow: 0px 1px 3px 1px rgba(0, 0, 0, 0.15);\n",
              "      filter: drop-shadow(0px 1px 2px rgba(0, 0, 0, 0.3));\n",
              "      fill: #FFFFFF;\n",
              "    }\n",
              "  </style>\n",
              "\n",
              "    <script>\n",
              "      const buttonEl =\n",
              "        document.querySelector('#df-14813205-e41f-4230-ad2b-deea9aa3baf5 button.colab-df-convert');\n",
              "      buttonEl.style.display =\n",
              "        google.colab.kernel.accessAllowed ? 'block' : 'none';\n",
              "\n",
              "      async function convertToInteractive(key) {\n",
              "        const element = document.querySelector('#df-14813205-e41f-4230-ad2b-deea9aa3baf5');\n",
              "        const dataTable =\n",
              "          await google.colab.kernel.invokeFunction('convertToInteractive',\n",
              "                                                    [key], {});\n",
              "        if (!dataTable) return;\n",
              "\n",
              "        const docLinkHtml = 'Like what you see? Visit the ' +\n",
              "          '<a target=\"_blank\" href=https://colab.research.google.com/notebooks/data_table.ipynb>data table notebook</a>'\n",
              "          + ' to learn more about interactive tables.';\n",
              "        element.innerHTML = '';\n",
              "        dataTable['output_type'] = 'display_data';\n",
              "        await google.colab.output.renderOutput(dataTable, element);\n",
              "        const docLink = document.createElement('div');\n",
              "        docLink.innerHTML = docLinkHtml;\n",
              "        element.appendChild(docLink);\n",
              "      }\n",
              "    </script>\n",
              "  </div>\n",
              "\n",
              "\n",
              "<div id=\"df-f384a96b-082f-4635-bd39-1b5875c6bf15\">\n",
              "  <button class=\"colab-df-quickchart\" onclick=\"quickchart('df-f384a96b-082f-4635-bd39-1b5875c6bf15')\"\n",
              "            title=\"Suggest charts\"\n",
              "            style=\"display:none;\">\n",
              "\n",
              "<svg xmlns=\"http://www.w3.org/2000/svg\" height=\"24px\"viewBox=\"0 0 24 24\"\n",
              "     width=\"24px\">\n",
              "    <g>\n",
              "        <path d=\"M19 3H5c-1.1 0-2 .9-2 2v14c0 1.1.9 2 2 2h14c1.1 0 2-.9 2-2V5c0-1.1-.9-2-2-2zM9 17H7v-7h2v7zm4 0h-2V7h2v10zm4 0h-2v-4h2v4z\"/>\n",
              "    </g>\n",
              "</svg>\n",
              "  </button>\n",
              "\n",
              "<style>\n",
              "  .colab-df-quickchart {\n",
              "      --bg-color: #E8F0FE;\n",
              "      --fill-color: #1967D2;\n",
              "      --hover-bg-color: #E2EBFA;\n",
              "      --hover-fill-color: #174EA6;\n",
              "      --disabled-fill-color: #AAA;\n",
              "      --disabled-bg-color: #DDD;\n",
              "  }\n",
              "\n",
              "  [theme=dark] .colab-df-quickchart {\n",
              "      --bg-color: #3B4455;\n",
              "      --fill-color: #D2E3FC;\n",
              "      --hover-bg-color: #434B5C;\n",
              "      --hover-fill-color: #FFFFFF;\n",
              "      --disabled-bg-color: #3B4455;\n",
              "      --disabled-fill-color: #666;\n",
              "  }\n",
              "\n",
              "  .colab-df-quickchart {\n",
              "    background-color: var(--bg-color);\n",
              "    border: none;\n",
              "    border-radius: 50%;\n",
              "    cursor: pointer;\n",
              "    display: none;\n",
              "    fill: var(--fill-color);\n",
              "    height: 32px;\n",
              "    padding: 0;\n",
              "    width: 32px;\n",
              "  }\n",
              "\n",
              "  .colab-df-quickchart:hover {\n",
              "    background-color: var(--hover-bg-color);\n",
              "    box-shadow: 0 1px 2px rgba(60, 64, 67, 0.3), 0 1px 3px 1px rgba(60, 64, 67, 0.15);\n",
              "    fill: var(--button-hover-fill-color);\n",
              "  }\n",
              "\n",
              "  .colab-df-quickchart-complete:disabled,\n",
              "  .colab-df-quickchart-complete:disabled:hover {\n",
              "    background-color: var(--disabled-bg-color);\n",
              "    fill: var(--disabled-fill-color);\n",
              "    box-shadow: none;\n",
              "  }\n",
              "\n",
              "  .colab-df-spinner {\n",
              "    border: 2px solid var(--fill-color);\n",
              "    border-color: transparent;\n",
              "    border-bottom-color: var(--fill-color);\n",
              "    animation:\n",
              "      spin 1s steps(1) infinite;\n",
              "  }\n",
              "\n",
              "  @keyframes spin {\n",
              "    0% {\n",
              "      border-color: transparent;\n",
              "      border-bottom-color: var(--fill-color);\n",
              "      border-left-color: var(--fill-color);\n",
              "    }\n",
              "    20% {\n",
              "      border-color: transparent;\n",
              "      border-left-color: var(--fill-color);\n",
              "      border-top-color: var(--fill-color);\n",
              "    }\n",
              "    30% {\n",
              "      border-color: transparent;\n",
              "      border-left-color: var(--fill-color);\n",
              "      border-top-color: var(--fill-color);\n",
              "      border-right-color: var(--fill-color);\n",
              "    }\n",
              "    40% {\n",
              "      border-color: transparent;\n",
              "      border-right-color: var(--fill-color);\n",
              "      border-top-color: var(--fill-color);\n",
              "    }\n",
              "    60% {\n",
              "      border-color: transparent;\n",
              "      border-right-color: var(--fill-color);\n",
              "    }\n",
              "    80% {\n",
              "      border-color: transparent;\n",
              "      border-right-color: var(--fill-color);\n",
              "      border-bottom-color: var(--fill-color);\n",
              "    }\n",
              "    90% {\n",
              "      border-color: transparent;\n",
              "      border-bottom-color: var(--fill-color);\n",
              "    }\n",
              "  }\n",
              "</style>\n",
              "\n",
              "  <script>\n",
              "    async function quickchart(key) {\n",
              "      const quickchartButtonEl =\n",
              "        document.querySelector('#' + key + ' button');\n",
              "      quickchartButtonEl.disabled = true;  // To prevent multiple clicks.\n",
              "      quickchartButtonEl.classList.add('colab-df-spinner');\n",
              "      try {\n",
              "        const charts = await google.colab.kernel.invokeFunction(\n",
              "            'suggestCharts', [key], {});\n",
              "      } catch (error) {\n",
              "        console.error('Error during call to suggestCharts:', error);\n",
              "      }\n",
              "      quickchartButtonEl.classList.remove('colab-df-spinner');\n",
              "      quickchartButtonEl.classList.add('colab-df-quickchart-complete');\n",
              "    }\n",
              "    (() => {\n",
              "      let quickchartButtonEl =\n",
              "        document.querySelector('#df-f384a96b-082f-4635-bd39-1b5875c6bf15 button');\n",
              "      quickchartButtonEl.style.display =\n",
              "        google.colab.kernel.accessAllowed ? 'block' : 'none';\n",
              "    })();\n",
              "  </script>\n",
              "</div>\n",
              "\n",
              "    </div>\n",
              "  </div>\n"
            ],
            "application/vnd.google.colaboratory.intrinsic+json": {
              "type": "dataframe",
              "summary": "{\n  \"name\": \"pokemon[pokemon[\\\"name_isalpha\\\"] == False]\",\n  \"rows\": 9,\n  \"fields\": [\n    {\n      \"column\": \"#\",\n      \"properties\": {\n        \"dtype\": \"number\",\n        \"std\": 235,\n        \"min\": 29,\n        \"max\": 718,\n        \"num_unique_values\": 9,\n        \"samples\": [\n          474,\n          32,\n          250\n        ],\n        \"semantic_type\": \"\",\n        \"description\": \"\"\n      }\n    },\n    {\n      \"column\": \"Name\",\n      \"properties\": {\n        \"dtype\": \"string\",\n        \"num_unique_values\": 9,\n        \"samples\": [\n          \"Porygon-Z\",\n          \"Nidoran\\u2642\",\n          \"Ho-oh\"\n        ],\n        \"semantic_type\": \"\",\n        \"description\": \"\"\n      }\n    },\n    {\n      \"column\": \"Type 1\",\n      \"properties\": {\n        \"dtype\": \"string\",\n        \"num_unique_values\": 5,\n        \"samples\": [\n          \"Normal\",\n          \"Dragon\",\n          \"Psychic\"\n        ],\n        \"semantic_type\": \"\",\n        \"description\": \"\"\n      }\n    },\n    {\n      \"column\": \"Type 2\",\n      \"properties\": {\n        \"dtype\": \"category\",\n        \"num_unique_values\": 3,\n        \"samples\": [\n          \"Flying\",\n          \"Fairy\",\n          \"Ground\"\n        ],\n        \"semantic_type\": \"\",\n        \"description\": \"\"\n      }\n    },\n    {\n      \"column\": \"Total\",\n      \"properties\": {\n        \"dtype\": \"number\",\n        \"std\": 149,\n        \"min\": 273,\n        \"max\": 680,\n        \"num_unique_values\": 9,\n        \"samples\": [\n          535,\n          273,\n          680\n        ],\n        \"semantic_type\": \"\",\n        \"description\": \"\"\n      }\n    },\n    {\n      \"column\": \"HP\",\n      \"properties\": {\n        \"dtype\": \"number\",\n        \"std\": 30,\n        \"min\": 20,\n        \"max\": 108,\n        \"num_unique_values\": 8,\n        \"samples\": [\n          46,\n          106,\n          55\n        ],\n        \"semantic_type\": \"\",\n        \"description\": \"\"\n      }\n    },\n    {\n      \"column\": \"Attack\",\n      \"properties\": {\n        \"dtype\": \"number\",\n        \"std\": 31,\n        \"min\": 25,\n        \"max\": 130,\n        \"num_unique_values\": 8,\n        \"samples\": [\n          57,\n          130,\n          47\n        ],\n        \"semantic_type\": \"\",\n        \"description\": \"\"\n      }\n    },\n    {\n      \"column\": \"Defense\",\n      \"properties\": {\n        \"dtype\": \"number\",\n        \"std\": 26,\n        \"min\": 40,\n        \"max\": 121,\n        \"num_unique_values\": 8,\n        \"samples\": [\n          40,\n          45,\n          52\n        ],\n        \"semantic_type\": \"\",\n        \"description\": \"\"\n      }\n    },\n    {\n      \"column\": \"Sp. Atk\",\n      \"properties\": {\n        \"dtype\": \"number\",\n        \"std\": 32,\n        \"min\": 40,\n        \"max\": 135,\n        \"num_unique_values\": 8,\n        \"samples\": [\n          58,\n          70,\n          40\n        ],\n        \"semantic_type\": \"\",\n        \"description\": \"\"\n      }\n    },\n    {\n      \"column\": \"Sp. Def\",\n      \"properties\": {\n        \"dtype\": \"number\",\n        \"std\": 36,\n        \"min\": 40,\n        \"max\": 154,\n        \"num_unique_values\": 7,\n        \"samples\": [\n          40,\n          62,\n          90\n        ],\n        \"semantic_type\": \"\",\n        \"description\": \"\"\n      }\n    },\n    {\n      \"column\": \"Speed\",\n      \"properties\": {\n        \"dtype\": \"number\",\n        \"std\": 20,\n        \"min\": 41,\n        \"max\": 95,\n        \"num_unique_values\": 5,\n        \"samples\": [\n          50,\n          95,\n          60\n        ],\n        \"semantic_type\": \"\",\n        \"description\": \"\"\n      }\n    },\n    {\n      \"column\": \"Generation\",\n      \"properties\": {\n        \"dtype\": \"number\",\n        \"std\": 1,\n        \"min\": 1,\n        \"max\": 6,\n        \"num_unique_values\": 4,\n        \"samples\": [\n          2,\n          6,\n          1\n        ],\n        \"semantic_type\": \"\",\n        \"description\": \"\"\n      }\n    },\n    {\n      \"column\": \"Legendary\",\n      \"properties\": {\n        \"dtype\": \"boolean\",\n        \"num_unique_values\": 2,\n        \"samples\": [\n          true,\n          false\n        ],\n        \"semantic_type\": \"\",\n        \"description\": \"\"\n      }\n    },\n    {\n      \"column\": \"name_count\",\n      \"properties\": {\n        \"dtype\": \"number\",\n        \"std\": 2,\n        \"min\": 5,\n        \"max\": 16,\n        \"num_unique_values\": 5,\n        \"samples\": [\n          10,\n          16\n        ],\n        \"semantic_type\": \"\",\n        \"description\": \"\"\n      }\n    },\n    {\n      \"column\": \"long_name\",\n      \"properties\": {\n        \"dtype\": \"boolean\",\n        \"num_unique_values\": 2,\n        \"samples\": [\n          true,\n          false\n        ],\n        \"semantic_type\": \"\",\n        \"description\": \"\"\n      }\n    },\n    {\n      \"column\": \"Name_nospace\",\n      \"properties\": {\n        \"dtype\": \"string\",\n        \"num_unique_values\": 9,\n        \"samples\": [\n          \"Porygon-Z\",\n          \"Nidoran\\u2642\"\n        ],\n        \"semantic_type\": \"\",\n        \"description\": \"\"\n      }\n    },\n    {\n      \"column\": \"name_isalpha\",\n      \"properties\": {\n        \"dtype\": \"boolean\",\n        \"num_unique_values\": 1,\n        \"samples\": [\n          false\n        ],\n        \"semantic_type\": \"\",\n        \"description\": \"\"\n      }\n    }\n  ]\n}"
            }
          },
          "metadata": {},
          "execution_count": 133
        }
      ]
    },
    {
      "cell_type": "code",
      "source": [
        "## Step 3-3-2. 변수 \"이름\" 전처리\n",
        "### 앞의 단계에서 수정의 필요를 발견한 9건의 데이터에 대한 수정 처리 실행 (특수 문자에 대한 조정)\n",
        "\n",
        "pokemon = pokemon.replace(to_replace=\"Nidoran♀\", value=\"Nidoran X\")\n",
        "pokemon = pokemon.replace(to_replace=\"Nidoran♂\", value=\"Nidoran Y\")\n",
        "pokemon = pokemon.replace(to_replace=\"Farfetch'd\", value=\"Farfetchd\")\n",
        "pokemon = pokemon.replace(to_replace=\"Mr. Mime\", value=\"Mr Mime\")\n",
        "pokemon = pokemon.replace(to_replace=\"Porygon2\", value=\"Porygon Two\")\n",
        "pokemon = pokemon.replace(to_replace=\"Ho-oh\", value=\"Ho Oh\")\n",
        "pokemon = pokemon.replace(to_replace=\"Mime Jr.\", value=\"Mime Jr\")\n",
        "pokemon = pokemon.replace(to_replace=\"Porygon-Z\", value=\"Porygon Z\")\n",
        "pokemon = pokemon.replace(to_replace=\"Zygarde50% Forme\", value=\"Zygarde Forme\")\n",
        "\n",
        "pokemon[\"Name_nospace\"] = pokemon[\"Name\"].apply(lambda i: i.replace(\" \", \"\"))\n",
        "pokemon[\"name_isalpha\"] = pokemon[\"Name_nospace\"].apply(lambda i: i.isalpha())\n",
        "print(pokemon[pokemon[\"name_isalpha\"] == False].shape)  ### 특수 문자를 포함한 경우가 없음에 대한 재확인"
      ],
      "metadata": {
        "colab": {
          "base_uri": "https://localhost:8080/"
        },
        "id": "4_VRTNxfahs8",
        "outputId": "1908009d-7698-4c43-bdd9-f96ef221178f"
      },
      "execution_count": null,
      "outputs": [
        {
          "output_type": "stream",
          "name": "stdout",
          "text": [
            "(0, 17)\n"
          ]
        }
      ]
    },
    {
      "cell_type": "code",
      "source": [
        "## Step 3-3-3. 변수 \"이름\" 전처리\n",
        "###  긴이름을 띄어쓰기 & 대문자 기준으로 분리해 토큰화하기\n",
        "\n",
        "import re               ### 정규식 re 모듈 사용\n",
        "\n",
        "def tokenize(name):     ### 토큰화 함수 정의\n",
        "    tokens = []\n",
        "    name_split = name.split(\" \")\n",
        "    for part_name in name_split:\n",
        "        a = re.findall('[A-Z][a-z]*', part_name)\n",
        "        tokens.extend(a)\n",
        "    return np.array(tokens)\n",
        "\n",
        "all_tokens = list(legendary[\"Name\"].apply(tokenize).values)   ### 전체 이름 대상으로 토큰 세트 생성\n",
        "token_set = []\n",
        "for token in all_tokens:\n",
        "    token_set.extend(token)\n",
        "print(len(set(token_set)))\n",
        "print(token_set)                      ### 총 65개의 토큰 확인\n",
        "print()\n",
        "\n",
        "from collections import Counter\n",
        "most_common = Counter(token_set).most_common(10) ### 최빈 토큰 10개 골라냄\n",
        "print(most_common)\n",
        "print()\n",
        "for token, _ in most_common:\n",
        "    pokemon[f\"{token}\"] = pokemon[\"Name\"].str.contains(token) ### 최빈 토큰 10개를 변수화함\n",
        "print(pokemon.head(10))"
      ],
      "metadata": {
        "colab": {
          "base_uri": "https://localhost:8080/"
        },
        "id": "GcyPVun3ahHN",
        "outputId": "aaec9a5a-28fd-4143-f6d6-efe2f42881eb"
      },
      "execution_count": null,
      "outputs": [
        {
          "output_type": "stream",
          "name": "stdout",
          "text": [
            "65\n",
            "['Articuno', 'Zapdos', 'Moltres', 'Mewtwo', 'Mewtwo', 'Mega', 'Mewtwo', 'X', 'Mewtwo', 'Mega', 'Mewtwo', 'Y', 'Raikou', 'Entei', 'Suicune', 'Lugia', 'Ho', 'Regirock', 'Regice', 'Registeel', 'Latias', 'Latias', 'Mega', 'Latias', 'Latios', 'Latios', 'Mega', 'Latios', 'Kyogre', 'Kyogre', 'Primal', 'Kyogre', 'Groudon', 'Groudon', 'Primal', 'Groudon', 'Rayquaza', 'Rayquaza', 'Mega', 'Rayquaza', 'Jirachi', 'Deoxys', 'Normal', 'Forme', 'Deoxys', 'Attack', 'Forme', 'Deoxys', 'Defense', 'Forme', 'Deoxys', 'Speed', 'Forme', 'Uxie', 'Mesprit', 'Azelf', 'Dialga', 'Palkia', 'Heatran', 'Regigigas', 'Giratina', 'Altered', 'Forme', 'Giratina', 'Origin', 'Forme', 'Darkrai', 'Shaymin', 'Land', 'Forme', 'Shaymin', 'Sky', 'Forme', 'Arceus', 'Victini', 'Cobalion', 'Terrakion', 'Virizion', 'Tornadus', 'Incarnate', 'Forme', 'Tornadus', 'Therian', 'Forme', 'Thundurus', 'Incarnate', 'Forme', 'Thundurus', 'Therian', 'Forme', 'Reshiram', 'Zekrom', 'Landorus', 'Incarnate', 'Forme', 'Landorus', 'Therian', 'Forme', 'Kyurem', 'Kyurem', 'Black', 'Kyurem', 'Kyurem', 'White', 'Kyurem', 'Xerneas', 'Yveltal', 'Zygarde', 'Forme', 'Diancie', 'Diancie', 'Mega', 'Diancie', 'Hoopa', 'Hoopa', 'Confined', 'Hoopa', 'Hoopa', 'Unbound', 'Volcanion']\n",
            "\n",
            "[('Forme', 15), ('Mega', 6), ('Mewtwo', 5), ('Kyurem', 5), ('Deoxys', 4), ('Hoopa', 4), ('Latias', 3), ('Latios', 3), ('Kyogre', 3), ('Groudon', 3)]\n",
            "\n",
            "   #                       Name Type 1  Type 2  Total  HP  Attack  Defense  \\\n",
            "0  1                  Bulbasaur  Grass  Poison    318  45      49       49   \n",
            "1  2                    Ivysaur  Grass  Poison    405  60      62       63   \n",
            "2  3                   Venusaur  Grass  Poison    525  80      82       83   \n",
            "3  3      VenusaurMega Venusaur  Grass  Poison    625  80     100      123   \n",
            "4  4                 Charmander   Fire     NaN    309  39      52       43   \n",
            "5  5                 Charmeleon   Fire     NaN    405  58      64       58   \n",
            "6  6                  Charizard   Fire  Flying    534  78      84       78   \n",
            "7  6  CharizardMega Charizard X   Fire  Dragon    634  78     130      111   \n",
            "8  6  CharizardMega Charizard Y   Fire  Flying    634  78     104       78   \n",
            "9  7                   Squirtle  Water     NaN    314  44      48       65   \n",
            "\n",
            "   Sp. Atk  Sp. Def  ...  Forme   Mega  Mewtwo  Kyurem  Deoxys  Hoopa  Latias  \\\n",
            "0       65       65  ...  False  False   False   False   False  False   False   \n",
            "1       80       80  ...  False  False   False   False   False  False   False   \n",
            "2      100      100  ...  False  False   False   False   False  False   False   \n",
            "3      122      120  ...  False   True   False   False   False  False   False   \n",
            "4       60       50  ...  False  False   False   False   False  False   False   \n",
            "5       80       65  ...  False  False   False   False   False  False   False   \n",
            "6      109       85  ...  False  False   False   False   False  False   False   \n",
            "7      130       85  ...  False   True   False   False   False  False   False   \n",
            "8      159      115  ...  False   True   False   False   False  False   False   \n",
            "9       50       64  ...  False  False   False   False   False  False   False   \n",
            "\n",
            "   Latios  Kyogre  Groudon  \n",
            "0   False   False    False  \n",
            "1   False   False    False  \n",
            "2   False   False    False  \n",
            "3   False   False    False  \n",
            "4   False   False    False  \n",
            "5   False   False    False  \n",
            "6   False   False    False  \n",
            "7   False   False    False  \n",
            "8   False   False    False  \n",
            "9   False   False    False  \n",
            "\n",
            "[10 rows x 27 columns]\n"
          ]
        }
      ]
    },
    {
      "cell_type": "code",
      "source": [
        "## Step 3-4. Type 1, 2 의 범주형 데이터 전처리\n",
        "### 18가지의 모든 Type를 모두 원-핫 인코딩(One-Hot Encoding) 하는 것이 목표임\n",
        "types = list(set(pokemon[\"Type 1\"]))\n",
        "print(types)\n",
        "print(len(types))\n",
        "\n",
        "for t in types:\n",
        "    pokemon[t] = (pokemon[\"Type 1\"] == t) | (pokemon[\"Type 2\"] == t)\n",
        "\n",
        "pokemon[[[\"Type 1\", \"Type 2\"] + types][0]].head()   ### 두 가지 속성을 가진 포켓몬은 두 가지 Type에 해당하는 자리에서 1 값을 가지게 됨"
      ],
      "metadata": {
        "colab": {
          "base_uri": "https://localhost:8080/",
          "height": 241
        },
        "id": "tI6_9Br5ag32",
        "outputId": "10708252-baef-4db8-8a33-308726284546"
      },
      "execution_count": null,
      "outputs": [
        {
          "output_type": "stream",
          "name": "stdout",
          "text": [
            "['Dragon', 'Grass', 'Ground', 'Poison', 'Fairy', 'Water', 'Psychic', 'Flying', 'Steel', 'Dark', 'Fire', 'Fighting', 'Normal', 'Rock', 'Electric', 'Bug', 'Ghost', 'Ice']\n",
            "18\n"
          ]
        },
        {
          "output_type": "execute_result",
          "data": {
            "text/plain": [
              "  Type 1  Type 2  Dragon  Grass  Ground  Poison  Fairy  Water  Psychic  \\\n",
              "0  Grass  Poison   False   True   False    True  False  False    False   \n",
              "1  Grass  Poison   False   True   False    True  False  False    False   \n",
              "2  Grass  Poison   False   True   False    True  False  False    False   \n",
              "3  Grass  Poison   False   True   False    True  False  False    False   \n",
              "4   Fire     NaN   False  False   False   False  False  False    False   \n",
              "\n",
              "   Flying  Steel   Dark   Fire  Fighting  Normal   Rock  Electric    Bug  \\\n",
              "0   False  False  False  False     False   False  False     False  False   \n",
              "1   False  False  False  False     False   False  False     False  False   \n",
              "2   False  False  False  False     False   False  False     False  False   \n",
              "3   False  False  False  False     False   False  False     False  False   \n",
              "4   False  False  False   True     False   False  False     False  False   \n",
              "\n",
              "   Ghost    Ice  \n",
              "0  False  False  \n",
              "1  False  False  \n",
              "2  False  False  \n",
              "3  False  False  \n",
              "4  False  False  "
            ],
            "text/html": [
              "\n",
              "  <div id=\"df-30a854ae-937d-4889-b121-031e96615488\" class=\"colab-df-container\">\n",
              "    <div>\n",
              "<style scoped>\n",
              "    .dataframe tbody tr th:only-of-type {\n",
              "        vertical-align: middle;\n",
              "    }\n",
              "\n",
              "    .dataframe tbody tr th {\n",
              "        vertical-align: top;\n",
              "    }\n",
              "\n",
              "    .dataframe thead th {\n",
              "        text-align: right;\n",
              "    }\n",
              "</style>\n",
              "<table border=\"1\" class=\"dataframe\">\n",
              "  <thead>\n",
              "    <tr style=\"text-align: right;\">\n",
              "      <th></th>\n",
              "      <th>Type 1</th>\n",
              "      <th>Type 2</th>\n",
              "      <th>Dragon</th>\n",
              "      <th>Grass</th>\n",
              "      <th>Ground</th>\n",
              "      <th>Poison</th>\n",
              "      <th>Fairy</th>\n",
              "      <th>Water</th>\n",
              "      <th>Psychic</th>\n",
              "      <th>Flying</th>\n",
              "      <th>Steel</th>\n",
              "      <th>Dark</th>\n",
              "      <th>Fire</th>\n",
              "      <th>Fighting</th>\n",
              "      <th>Normal</th>\n",
              "      <th>Rock</th>\n",
              "      <th>Electric</th>\n",
              "      <th>Bug</th>\n",
              "      <th>Ghost</th>\n",
              "      <th>Ice</th>\n",
              "    </tr>\n",
              "  </thead>\n",
              "  <tbody>\n",
              "    <tr>\n",
              "      <th>0</th>\n",
              "      <td>Grass</td>\n",
              "      <td>Poison</td>\n",
              "      <td>False</td>\n",
              "      <td>True</td>\n",
              "      <td>False</td>\n",
              "      <td>True</td>\n",
              "      <td>False</td>\n",
              "      <td>False</td>\n",
              "      <td>False</td>\n",
              "      <td>False</td>\n",
              "      <td>False</td>\n",
              "      <td>False</td>\n",
              "      <td>False</td>\n",
              "      <td>False</td>\n",
              "      <td>False</td>\n",
              "      <td>False</td>\n",
              "      <td>False</td>\n",
              "      <td>False</td>\n",
              "      <td>False</td>\n",
              "      <td>False</td>\n",
              "    </tr>\n",
              "    <tr>\n",
              "      <th>1</th>\n",
              "      <td>Grass</td>\n",
              "      <td>Poison</td>\n",
              "      <td>False</td>\n",
              "      <td>True</td>\n",
              "      <td>False</td>\n",
              "      <td>True</td>\n",
              "      <td>False</td>\n",
              "      <td>False</td>\n",
              "      <td>False</td>\n",
              "      <td>False</td>\n",
              "      <td>False</td>\n",
              "      <td>False</td>\n",
              "      <td>False</td>\n",
              "      <td>False</td>\n",
              "      <td>False</td>\n",
              "      <td>False</td>\n",
              "      <td>False</td>\n",
              "      <td>False</td>\n",
              "      <td>False</td>\n",
              "      <td>False</td>\n",
              "    </tr>\n",
              "    <tr>\n",
              "      <th>2</th>\n",
              "      <td>Grass</td>\n",
              "      <td>Poison</td>\n",
              "      <td>False</td>\n",
              "      <td>True</td>\n",
              "      <td>False</td>\n",
              "      <td>True</td>\n",
              "      <td>False</td>\n",
              "      <td>False</td>\n",
              "      <td>False</td>\n",
              "      <td>False</td>\n",
              "      <td>False</td>\n",
              "      <td>False</td>\n",
              "      <td>False</td>\n",
              "      <td>False</td>\n",
              "      <td>False</td>\n",
              "      <td>False</td>\n",
              "      <td>False</td>\n",
              "      <td>False</td>\n",
              "      <td>False</td>\n",
              "      <td>False</td>\n",
              "    </tr>\n",
              "    <tr>\n",
              "      <th>3</th>\n",
              "      <td>Grass</td>\n",
              "      <td>Poison</td>\n",
              "      <td>False</td>\n",
              "      <td>True</td>\n",
              "      <td>False</td>\n",
              "      <td>True</td>\n",
              "      <td>False</td>\n",
              "      <td>False</td>\n",
              "      <td>False</td>\n",
              "      <td>False</td>\n",
              "      <td>False</td>\n",
              "      <td>False</td>\n",
              "      <td>False</td>\n",
              "      <td>False</td>\n",
              "      <td>False</td>\n",
              "      <td>False</td>\n",
              "      <td>False</td>\n",
              "      <td>False</td>\n",
              "      <td>False</td>\n",
              "      <td>False</td>\n",
              "    </tr>\n",
              "    <tr>\n",
              "      <th>4</th>\n",
              "      <td>Fire</td>\n",
              "      <td>NaN</td>\n",
              "      <td>False</td>\n",
              "      <td>False</td>\n",
              "      <td>False</td>\n",
              "      <td>False</td>\n",
              "      <td>False</td>\n",
              "      <td>False</td>\n",
              "      <td>False</td>\n",
              "      <td>False</td>\n",
              "      <td>False</td>\n",
              "      <td>False</td>\n",
              "      <td>True</td>\n",
              "      <td>False</td>\n",
              "      <td>False</td>\n",
              "      <td>False</td>\n",
              "      <td>False</td>\n",
              "      <td>False</td>\n",
              "      <td>False</td>\n",
              "      <td>False</td>\n",
              "    </tr>\n",
              "  </tbody>\n",
              "</table>\n",
              "</div>\n",
              "    <div class=\"colab-df-buttons\">\n",
              "\n",
              "  <div class=\"colab-df-container\">\n",
              "    <button class=\"colab-df-convert\" onclick=\"convertToInteractive('df-30a854ae-937d-4889-b121-031e96615488')\"\n",
              "            title=\"Convert this dataframe to an interactive table.\"\n",
              "            style=\"display:none;\">\n",
              "\n",
              "  <svg xmlns=\"http://www.w3.org/2000/svg\" height=\"24px\" viewBox=\"0 -960 960 960\">\n",
              "    <path d=\"M120-120v-720h720v720H120Zm60-500h600v-160H180v160Zm220 220h160v-160H400v160Zm0 220h160v-160H400v160ZM180-400h160v-160H180v160Zm440 0h160v-160H620v160ZM180-180h160v-160H180v160Zm440 0h160v-160H620v160Z\"/>\n",
              "  </svg>\n",
              "    </button>\n",
              "\n",
              "  <style>\n",
              "    .colab-df-container {\n",
              "      display:flex;\n",
              "      gap: 12px;\n",
              "    }\n",
              "\n",
              "    .colab-df-convert {\n",
              "      background-color: #E8F0FE;\n",
              "      border: none;\n",
              "      border-radius: 50%;\n",
              "      cursor: pointer;\n",
              "      display: none;\n",
              "      fill: #1967D2;\n",
              "      height: 32px;\n",
              "      padding: 0 0 0 0;\n",
              "      width: 32px;\n",
              "    }\n",
              "\n",
              "    .colab-df-convert:hover {\n",
              "      background-color: #E2EBFA;\n",
              "      box-shadow: 0px 1px 2px rgba(60, 64, 67, 0.3), 0px 1px 3px 1px rgba(60, 64, 67, 0.15);\n",
              "      fill: #174EA6;\n",
              "    }\n",
              "\n",
              "    .colab-df-buttons div {\n",
              "      margin-bottom: 4px;\n",
              "    }\n",
              "\n",
              "    [theme=dark] .colab-df-convert {\n",
              "      background-color: #3B4455;\n",
              "      fill: #D2E3FC;\n",
              "    }\n",
              "\n",
              "    [theme=dark] .colab-df-convert:hover {\n",
              "      background-color: #434B5C;\n",
              "      box-shadow: 0px 1px 3px 1px rgba(0, 0, 0, 0.15);\n",
              "      filter: drop-shadow(0px 1px 2px rgba(0, 0, 0, 0.3));\n",
              "      fill: #FFFFFF;\n",
              "    }\n",
              "  </style>\n",
              "\n",
              "    <script>\n",
              "      const buttonEl =\n",
              "        document.querySelector('#df-30a854ae-937d-4889-b121-031e96615488 button.colab-df-convert');\n",
              "      buttonEl.style.display =\n",
              "        google.colab.kernel.accessAllowed ? 'block' : 'none';\n",
              "\n",
              "      async function convertToInteractive(key) {\n",
              "        const element = document.querySelector('#df-30a854ae-937d-4889-b121-031e96615488');\n",
              "        const dataTable =\n",
              "          await google.colab.kernel.invokeFunction('convertToInteractive',\n",
              "                                                    [key], {});\n",
              "        if (!dataTable) return;\n",
              "\n",
              "        const docLinkHtml = 'Like what you see? Visit the ' +\n",
              "          '<a target=\"_blank\" href=https://colab.research.google.com/notebooks/data_table.ipynb>data table notebook</a>'\n",
              "          + ' to learn more about interactive tables.';\n",
              "        element.innerHTML = '';\n",
              "        dataTable['output_type'] = 'display_data';\n",
              "        await google.colab.output.renderOutput(dataTable, element);\n",
              "        const docLink = document.createElement('div');\n",
              "        docLink.innerHTML = docLinkHtml;\n",
              "        element.appendChild(docLink);\n",
              "      }\n",
              "    </script>\n",
              "  </div>\n",
              "\n",
              "\n",
              "<div id=\"df-739347a9-47ab-49c7-9cef-61abf06a2ba3\">\n",
              "  <button class=\"colab-df-quickchart\" onclick=\"quickchart('df-739347a9-47ab-49c7-9cef-61abf06a2ba3')\"\n",
              "            title=\"Suggest charts\"\n",
              "            style=\"display:none;\">\n",
              "\n",
              "<svg xmlns=\"http://www.w3.org/2000/svg\" height=\"24px\"viewBox=\"0 0 24 24\"\n",
              "     width=\"24px\">\n",
              "    <g>\n",
              "        <path d=\"M19 3H5c-1.1 0-2 .9-2 2v14c0 1.1.9 2 2 2h14c1.1 0 2-.9 2-2V5c0-1.1-.9-2-2-2zM9 17H7v-7h2v7zm4 0h-2V7h2v10zm4 0h-2v-4h2v4z\"/>\n",
              "    </g>\n",
              "</svg>\n",
              "  </button>\n",
              "\n",
              "<style>\n",
              "  .colab-df-quickchart {\n",
              "      --bg-color: #E8F0FE;\n",
              "      --fill-color: #1967D2;\n",
              "      --hover-bg-color: #E2EBFA;\n",
              "      --hover-fill-color: #174EA6;\n",
              "      --disabled-fill-color: #AAA;\n",
              "      --disabled-bg-color: #DDD;\n",
              "  }\n",
              "\n",
              "  [theme=dark] .colab-df-quickchart {\n",
              "      --bg-color: #3B4455;\n",
              "      --fill-color: #D2E3FC;\n",
              "      --hover-bg-color: #434B5C;\n",
              "      --hover-fill-color: #FFFFFF;\n",
              "      --disabled-bg-color: #3B4455;\n",
              "      --disabled-fill-color: #666;\n",
              "  }\n",
              "\n",
              "  .colab-df-quickchart {\n",
              "    background-color: var(--bg-color);\n",
              "    border: none;\n",
              "    border-radius: 50%;\n",
              "    cursor: pointer;\n",
              "    display: none;\n",
              "    fill: var(--fill-color);\n",
              "    height: 32px;\n",
              "    padding: 0;\n",
              "    width: 32px;\n",
              "  }\n",
              "\n",
              "  .colab-df-quickchart:hover {\n",
              "    background-color: var(--hover-bg-color);\n",
              "    box-shadow: 0 1px 2px rgba(60, 64, 67, 0.3), 0 1px 3px 1px rgba(60, 64, 67, 0.15);\n",
              "    fill: var(--button-hover-fill-color);\n",
              "  }\n",
              "\n",
              "  .colab-df-quickchart-complete:disabled,\n",
              "  .colab-df-quickchart-complete:disabled:hover {\n",
              "    background-color: var(--disabled-bg-color);\n",
              "    fill: var(--disabled-fill-color);\n",
              "    box-shadow: none;\n",
              "  }\n",
              "\n",
              "  .colab-df-spinner {\n",
              "    border: 2px solid var(--fill-color);\n",
              "    border-color: transparent;\n",
              "    border-bottom-color: var(--fill-color);\n",
              "    animation:\n",
              "      spin 1s steps(1) infinite;\n",
              "  }\n",
              "\n",
              "  @keyframes spin {\n",
              "    0% {\n",
              "      border-color: transparent;\n",
              "      border-bottom-color: var(--fill-color);\n",
              "      border-left-color: var(--fill-color);\n",
              "    }\n",
              "    20% {\n",
              "      border-color: transparent;\n",
              "      border-left-color: var(--fill-color);\n",
              "      border-top-color: var(--fill-color);\n",
              "    }\n",
              "    30% {\n",
              "      border-color: transparent;\n",
              "      border-left-color: var(--fill-color);\n",
              "      border-top-color: var(--fill-color);\n",
              "      border-right-color: var(--fill-color);\n",
              "    }\n",
              "    40% {\n",
              "      border-color: transparent;\n",
              "      border-right-color: var(--fill-color);\n",
              "      border-top-color: var(--fill-color);\n",
              "    }\n",
              "    60% {\n",
              "      border-color: transparent;\n",
              "      border-right-color: var(--fill-color);\n",
              "    }\n",
              "    80% {\n",
              "      border-color: transparent;\n",
              "      border-right-color: var(--fill-color);\n",
              "      border-bottom-color: var(--fill-color);\n",
              "    }\n",
              "    90% {\n",
              "      border-color: transparent;\n",
              "      border-bottom-color: var(--fill-color);\n",
              "    }\n",
              "  }\n",
              "</style>\n",
              "\n",
              "  <script>\n",
              "    async function quickchart(key) {\n",
              "      const quickchartButtonEl =\n",
              "        document.querySelector('#' + key + ' button');\n",
              "      quickchartButtonEl.disabled = true;  // To prevent multiple clicks.\n",
              "      quickchartButtonEl.classList.add('colab-df-spinner');\n",
              "      try {\n",
              "        const charts = await google.colab.kernel.invokeFunction(\n",
              "            'suggestCharts', [key], {});\n",
              "      } catch (error) {\n",
              "        console.error('Error during call to suggestCharts:', error);\n",
              "      }\n",
              "      quickchartButtonEl.classList.remove('colab-df-spinner');\n",
              "      quickchartButtonEl.classList.add('colab-df-quickchart-complete');\n",
              "    }\n",
              "    (() => {\n",
              "      let quickchartButtonEl =\n",
              "        document.querySelector('#df-739347a9-47ab-49c7-9cef-61abf06a2ba3 button');\n",
              "      quickchartButtonEl.style.display =\n",
              "        google.colab.kernel.accessAllowed ? 'block' : 'none';\n",
              "    })();\n",
              "  </script>\n",
              "</div>\n",
              "\n",
              "    </div>\n",
              "  </div>\n"
            ],
            "application/vnd.google.colaboratory.intrinsic+json": {
              "type": "dataframe",
              "summary": "{\n  \"name\": \"pokemon[[[\\\"Type 1\\\", \\\"Type 2\\\"] + types][0]]\",\n  \"rows\": 5,\n  \"fields\": [\n    {\n      \"column\": \"Type 1\",\n      \"properties\": {\n        \"dtype\": \"category\",\n        \"num_unique_values\": 2,\n        \"samples\": [\n          \"Fire\",\n          \"Grass\"\n        ],\n        \"semantic_type\": \"\",\n        \"description\": \"\"\n      }\n    },\n    {\n      \"column\": \"Type 2\",\n      \"properties\": {\n        \"dtype\": \"category\",\n        \"num_unique_values\": 1,\n        \"samples\": [\n          \"Poison\"\n        ],\n        \"semantic_type\": \"\",\n        \"description\": \"\"\n      }\n    },\n    {\n      \"column\": \"Dragon\",\n      \"properties\": {\n        \"dtype\": \"boolean\",\n        \"num_unique_values\": 1,\n        \"samples\": [\n          false\n        ],\n        \"semantic_type\": \"\",\n        \"description\": \"\"\n      }\n    },\n    {\n      \"column\": \"Grass\",\n      \"properties\": {\n        \"dtype\": \"boolean\",\n        \"num_unique_values\": 2,\n        \"samples\": [\n          false\n        ],\n        \"semantic_type\": \"\",\n        \"description\": \"\"\n      }\n    },\n    {\n      \"column\": \"Ground\",\n      \"properties\": {\n        \"dtype\": \"boolean\",\n        \"num_unique_values\": 1,\n        \"samples\": [\n          false\n        ],\n        \"semantic_type\": \"\",\n        \"description\": \"\"\n      }\n    },\n    {\n      \"column\": \"Poison\",\n      \"properties\": {\n        \"dtype\": \"boolean\",\n        \"num_unique_values\": 2,\n        \"samples\": [\n          false\n        ],\n        \"semantic_type\": \"\",\n        \"description\": \"\"\n      }\n    },\n    {\n      \"column\": \"Fairy\",\n      \"properties\": {\n        \"dtype\": \"boolean\",\n        \"num_unique_values\": 1,\n        \"samples\": [\n          false\n        ],\n        \"semantic_type\": \"\",\n        \"description\": \"\"\n      }\n    },\n    {\n      \"column\": \"Water\",\n      \"properties\": {\n        \"dtype\": \"boolean\",\n        \"num_unique_values\": 1,\n        \"samples\": [\n          false\n        ],\n        \"semantic_type\": \"\",\n        \"description\": \"\"\n      }\n    },\n    {\n      \"column\": \"Psychic\",\n      \"properties\": {\n        \"dtype\": \"boolean\",\n        \"num_unique_values\": 1,\n        \"samples\": [\n          false\n        ],\n        \"semantic_type\": \"\",\n        \"description\": \"\"\n      }\n    },\n    {\n      \"column\": \"Flying\",\n      \"properties\": {\n        \"dtype\": \"boolean\",\n        \"num_unique_values\": 1,\n        \"samples\": [\n          false\n        ],\n        \"semantic_type\": \"\",\n        \"description\": \"\"\n      }\n    },\n    {\n      \"column\": \"Steel\",\n      \"properties\": {\n        \"dtype\": \"boolean\",\n        \"num_unique_values\": 1,\n        \"samples\": [\n          false\n        ],\n        \"semantic_type\": \"\",\n        \"description\": \"\"\n      }\n    },\n    {\n      \"column\": \"Dark\",\n      \"properties\": {\n        \"dtype\": \"boolean\",\n        \"num_unique_values\": 1,\n        \"samples\": [\n          false\n        ],\n        \"semantic_type\": \"\",\n        \"description\": \"\"\n      }\n    },\n    {\n      \"column\": \"Fire\",\n      \"properties\": {\n        \"dtype\": \"boolean\",\n        \"num_unique_values\": 2,\n        \"samples\": [\n          true\n        ],\n        \"semantic_type\": \"\",\n        \"description\": \"\"\n      }\n    },\n    {\n      \"column\": \"Fighting\",\n      \"properties\": {\n        \"dtype\": \"boolean\",\n        \"num_unique_values\": 1,\n        \"samples\": [\n          false\n        ],\n        \"semantic_type\": \"\",\n        \"description\": \"\"\n      }\n    },\n    {\n      \"column\": \"Normal\",\n      \"properties\": {\n        \"dtype\": \"boolean\",\n        \"num_unique_values\": 1,\n        \"samples\": [\n          false\n        ],\n        \"semantic_type\": \"\",\n        \"description\": \"\"\n      }\n    },\n    {\n      \"column\": \"Rock\",\n      \"properties\": {\n        \"dtype\": \"boolean\",\n        \"num_unique_values\": 1,\n        \"samples\": [\n          false\n        ],\n        \"semantic_type\": \"\",\n        \"description\": \"\"\n      }\n    },\n    {\n      \"column\": \"Electric\",\n      \"properties\": {\n        \"dtype\": \"boolean\",\n        \"num_unique_values\": 1,\n        \"samples\": [\n          false\n        ],\n        \"semantic_type\": \"\",\n        \"description\": \"\"\n      }\n    },\n    {\n      \"column\": \"Bug\",\n      \"properties\": {\n        \"dtype\": \"boolean\",\n        \"num_unique_values\": 1,\n        \"samples\": [\n          false\n        ],\n        \"semantic_type\": \"\",\n        \"description\": \"\"\n      }\n    },\n    {\n      \"column\": \"Ghost\",\n      \"properties\": {\n        \"dtype\": \"boolean\",\n        \"num_unique_values\": 1,\n        \"samples\": [\n          false\n        ],\n        \"semantic_type\": \"\",\n        \"description\": \"\"\n      }\n    },\n    {\n      \"column\": \"Ice\",\n      \"properties\": {\n        \"dtype\": \"boolean\",\n        \"num_unique_values\": 1,\n        \"samples\": [\n          false\n        ],\n        \"semantic_type\": \"\",\n        \"description\": \"\"\n      }\n    }\n  ]\n}"
            }
          },
          "metadata": {},
          "execution_count": 136
        }
      ]
    },
    {
      "cell_type": "markdown",
      "source": [
        "----------------------------------------------------------------------------------------------------------------------------------------------------------------\n",
        "**< Step 5. 베이스라인 모델 구현 및 분석 >**\n",
        "\n",
        "\n",
        "- 모델: Decesion Tree\n",
        "\n",
        "- 사용 모듈: Scikit-learn\n",
        "\n",
        "- 특이점: 데이터 전처리를 이용하여 처리한 자료가 사용됨 (즉, 이름과 속성 자료가 변수화 됨)\n",
        "- 분석 결과는 정확도가 96% 로 기본 모델 대비 약간의 향상을 보이고, 양성을 찾아내는 재현율이 92% 기본 모델 대비 상당히 향상됨 (Step 5-5 참조)"
      ],
      "metadata": {
        "id": "ROW3Z5Lhgnxl"
      }
    },
    {
      "cell_type": "code",
      "source": [
        "## Step 5-1 Features 과 Taget 설정\n",
        "features_base = ['Total', 'HP', 'Attack', 'Defense','Sp. Atk', 'Sp. Def', 'Speed', 'Generation',\n",
        "            'name_count','long_name', 'Forme', 'Mega', 'Mewtwo','Deoxys', 'Kyurem', 'Latias', 'Latios',\n",
        "            'Kyogre', 'Groudon', 'Hoopa','Poison', 'Ground', 'Flying', 'Normal', 'Water', 'Fire',\n",
        "            'Electric','Rock', 'Dark', 'Fairy', 'Steel', 'Ghost', 'Psychic', 'Ice', 'Bug', 'Grass', 'Dragon', 'Fighting']\n",
        "print(len(features_base))\n",
        "\n",
        "target_base = \"Legendary\""
      ],
      "metadata": {
        "colab": {
          "base_uri": "https://localhost:8080/"
        },
        "id": "Vxk_SumJg5hI",
        "outputId": "7aa530b3-51c5-4560-ba5b-f98894ce2157"
      },
      "execution_count": null,
      "outputs": [
        {
          "output_type": "stream",
          "name": "stdout",
          "text": [
            "38\n"
          ]
        }
      ]
    },
    {
      "cell_type": "code",
      "source": [
        "## Step 5-2. Features 과 Target 데이터생성\n",
        "X_base = pokemon[features_base]\n",
        "print(X_base.shape)\n",
        "print(X_base.head())\n",
        "print()\n",
        "y_base = pokemon[target_base]\n",
        "print(y_base.shape)\n",
        "print(y_base.head())"
      ],
      "metadata": {
        "colab": {
          "base_uri": "https://localhost:8080/"
        },
        "collapsed": true,
        "id": "syhCuUgUh1k8",
        "outputId": "8bfa8259-b070-4f5e-8829-ee0e8de340f8"
      },
      "execution_count": null,
      "outputs": [
        {
          "output_type": "stream",
          "name": "stdout",
          "text": [
            "(800, 38)\n",
            "   Total  HP  Attack  Defense  Sp. Atk  Sp. Def  Speed  Generation  \\\n",
            "0    318  45      49       49       65       65     45           1   \n",
            "1    405  60      62       63       80       80     60           1   \n",
            "2    525  80      82       83      100      100     80           1   \n",
            "3    625  80     100      123      122      120     80           1   \n",
            "4    309  39      52       43       60       50     65           1   \n",
            "\n",
            "   name_count  long_name  ...   Dark  Fairy  Steel  Ghost  Psychic    Ice  \\\n",
            "0           9      False  ...  False  False  False  False    False  False   \n",
            "1           7      False  ...  False  False  False  False    False  False   \n",
            "2           8      False  ...  False  False  False  False    False  False   \n",
            "3          21       True  ...  False  False  False  False    False  False   \n",
            "4          10      False  ...  False  False  False  False    False  False   \n",
            "\n",
            "     Bug  Grass  Dragon  Fighting  \n",
            "0  False   True   False     False  \n",
            "1  False   True   False     False  \n",
            "2  False   True   False     False  \n",
            "3  False   True   False     False  \n",
            "4  False  False   False     False  \n",
            "\n",
            "[5 rows x 38 columns]\n",
            "\n",
            "(800,)\n",
            "0    False\n",
            "1    False\n",
            "2    False\n",
            "3    False\n",
            "4    False\n",
            "Name: Legendary, dtype: bool\n"
          ]
        }
      ]
    },
    {
      "cell_type": "code",
      "source": [
        "## Step 5-3. 베이스라인 모델을 Train / Test 그룹으로 구분\n",
        "from sklearn.model_selection import train_test_split\n",
        "\n",
        "X_base_train, X_base_test, y_base_train, y_base_test = train_test_split(X_base, y_base, test_size=0.2, random_state=15)\n",
        "print(X_base_train.shape, y_base_train.shape)\n",
        "print(X_base_test.shape, y_base_test.shape)"
      ],
      "metadata": {
        "colab": {
          "base_uri": "https://localhost:8080/"
        },
        "id": "y_EUeTABkciE",
        "outputId": "7a607799-ff9d-4ad2-839b-03e05ea6ef8e"
      },
      "execution_count": null,
      "outputs": [
        {
          "output_type": "stream",
          "name": "stdout",
          "text": [
            "(640, 38) (640,)\n",
            "(160, 38) (160,)\n"
          ]
        }
      ]
    },
    {
      "cell_type": "code",
      "source": [
        "## Step 5-4. 기본 모델을 DecisionTree 방식을 통해 훈련/예측\n",
        "from sklearn.tree import DecisionTreeClassifier\n",
        "model = DecisionTreeClassifier(random_state=25)\n",
        "model.fit(X_base_train, y_base_train)\n",
        "y_base_pred = model.predict(X_base_test)"
      ],
      "metadata": {
        "id": "_-ec1BLalAMw"
      },
      "execution_count": null,
      "outputs": []
    },
    {
      "cell_type": "code",
      "source": [
        "## Step 5-5. 예측 결과 분석\n",
        "from sklearn.metrics import confusion_matrix  ### confusion matrix 사용\n",
        "print(confusion_matrix(y_base_test, y_base_pred))\n",
        "print('*'*20)\n",
        "from sklearn.metrics import accuracy_score ### accuracy_score 함수를 불러오기\n",
        "accuracy_base = accuracy_score(y_base_test, y_base_pred) ### 정확도 측정\n",
        "print(accuracy_base)\n",
        "print('*'*20)\n",
        "from sklearn.metrics import classification_report   ### classification report 사용\n",
        "print(classification_report(y_base_test, y_base_pred))\n",
        "print('*'*20)"
      ],
      "metadata": {
        "colab": {
          "base_uri": "https://localhost:8080/"
        },
        "id": "CP9t0oknlIkZ",
        "outputId": "db6152da-9ce1-4752-9c11-6a90f3f8f7c1"
      },
      "execution_count": null,
      "outputs": [
        {
          "output_type": "stream",
          "name": "stdout",
          "text": [
            "[[141   6]\n",
            " [  1  12]]\n",
            "********************\n",
            "0.95625\n",
            "********************\n",
            "              precision    recall  f1-score   support\n",
            "\n",
            "       False       0.99      0.96      0.98       147\n",
            "        True       0.67      0.92      0.77        13\n",
            "\n",
            "    accuracy                           0.96       160\n",
            "   macro avg       0.83      0.94      0.87       160\n",
            "weighted avg       0.97      0.96      0.96       160\n",
            "\n",
            "********************\n"
          ]
        }
      ]
    },
    {
      "cell_type": "markdown",
      "source": [
        "----------------------------------------------------------------------------------------------------------------------------------------------------------------\n",
        "**< Step 6. 딥러닝 모델 구현 및 분석 >**\n",
        "\n",
        "- 모델: 딥러닝을 이용한 구현\n",
        "- 사용 모듈: keras\n",
        "- 특이점: 데이터 전처리를 이용하여 베이스 모델과 동일한 features 와 target 사용토록 함\n",
        "- 정확도 측면에서도 (83% 의 정확도) 또한 손실함수 수치상으로도 (0.9043) 머신러닝 대비 향상된 결과를 보여주지 못함"
      ],
      "metadata": {
        "id": "7xC-ZQ7-mQxO"
      }
    },
    {
      "source": [
        "## Step 6-1 Features 과 Taget, 모델 설정\n",
        "\n",
        "from tensorflow import keras\n",
        "from tensorflow.keras import layers\n",
        "import numpy as np\n",
        "import pandas as pd\n",
        "\n",
        "# Ensure your data is in the correct format and doesn't contain None values:\n",
        "X_base_train = X_base_train.astype(\"float32\").fillna(0)  # Fill NaN with 0\n",
        "X_base_test = X_base_test.astype(\"float32\").fillna(0)  # Fill NaN with 0\n",
        "\n",
        "train_data = X_base_train[:520].astype(\"float32\")       ### 80% 과 20% 로 학습/검증 데이터 나눔\n",
        "train_data_val = X_base_train[520:].astype(\"float32\")\n",
        "train_labels = y_base_train[:520].astype(\"float32\")\n",
        "train_labels_val = y_base_train[520:].astype(\"float32\")\n",
        "test_data = X_base_test.astype(\"float32\")\n",
        "test_labels = y_base_test.astype(\"float32\")\n",
        "\n",
        "# Convert your validation data to NumPy arrays if they are pandas Series/DataFrames:\n",
        "# Check if train_data_val and train_labels_val are not None before converting to NumPy arrays\n",
        "if isinstance(train_data_val, (pd.Series, pd.DataFrame)):\n",
        "    train_data_val = train_data_val.to_numpy()\n",
        "if isinstance(train_labels_val, (pd.Series, pd.DataFrame)):\n",
        "    train_labels_val = train_labels_val.to_numpy()\n",
        "\n",
        "model = keras.Sequential([                           ### 2겹의 중간층과 1겹의 출력층을 가진 3겹 모델\n",
        "        layers.Dense(16, activation=\"relu\"),\n",
        "        layers.Dense(16, activation=\"relu\"),\n",
        "        layers.Dense(1, activation=\"sigmoid\")       ### 이진분류이기에 Sigmoid 를 활성화 함수로 사용함\n",
        "  ])\n",
        "\n",
        "model.compile(optimizer=\"rmsprop\",\n",
        "              loss=\"binary_crossentropy\",\n",
        "              metrics=[\"accuracy\"])\n",
        "\n",
        "model.fit(train_data, train_labels, epochs=10, batch_size=64, validation_data=(train_data_val, train_labels_val))"
      ],
      "cell_type": "code",
      "metadata": {
        "colab": {
          "base_uri": "https://localhost:8080/"
        },
        "id": "sfneYryFak6H",
        "outputId": "65724e26-1cc6-4ff8-e491-862571b2d785"
      },
      "execution_count": null,
      "outputs": [
        {
          "output_type": "stream",
          "name": "stdout",
          "text": [
            "Epoch 1/10\n",
            "\u001b[1m9/9\u001b[0m \u001b[32m━━━━━━━━━━━━━━━━━━━━\u001b[0m\u001b[37m\u001b[0m \u001b[1m1s\u001b[0m 29ms/step - accuracy: 0.7387 - loss: 1.6374 - val_accuracy: 0.9333 - val_loss: 0.8764\n",
            "Epoch 2/10\n",
            "\u001b[1m9/9\u001b[0m \u001b[32m━━━━━━━━━━━━━━━━━━━━\u001b[0m\u001b[37m\u001b[0m \u001b[1m0s\u001b[0m 6ms/step - accuracy: 0.8736 - loss: 1.0019 - val_accuracy: 0.9333 - val_loss: 0.8726\n",
            "Epoch 3/10\n",
            "\u001b[1m9/9\u001b[0m \u001b[32m━━━━━━━━━━━━━━━━━━━━\u001b[0m\u001b[37m\u001b[0m \u001b[1m0s\u001b[0m 6ms/step - accuracy: 0.8831 - loss: 0.8741 - val_accuracy: 0.9333 - val_loss: 0.6427\n",
            "Epoch 4/10\n",
            "\u001b[1m9/9\u001b[0m \u001b[32m━━━━━━━━━━━━━━━━━━━━\u001b[0m\u001b[37m\u001b[0m \u001b[1m0s\u001b[0m 5ms/step - accuracy: 0.8695 - loss: 0.6948 - val_accuracy: 0.5000 - val_loss: 1.0505\n",
            "Epoch 5/10\n",
            "\u001b[1m9/9\u001b[0m \u001b[32m━━━━━━━━━━━━━━━━━━━━\u001b[0m\u001b[37m\u001b[0m \u001b[1m0s\u001b[0m 6ms/step - accuracy: 0.7718 - loss: 0.7728 - val_accuracy: 0.1000 - val_loss: 3.1265\n",
            "Epoch 6/10\n",
            "\u001b[1m9/9\u001b[0m \u001b[32m━━━━━━━━━━━━━━━━━━━━\u001b[0m\u001b[37m\u001b[0m \u001b[1m0s\u001b[0m 5ms/step - accuracy: 0.6803 - loss: 1.1531 - val_accuracy: 0.9333 - val_loss: 0.4476\n",
            "Epoch 7/10\n",
            "\u001b[1m9/9\u001b[0m \u001b[32m━━━━━━━━━━━━━━━━━━━━\u001b[0m\u001b[37m\u001b[0m \u001b[1m0s\u001b[0m 6ms/step - accuracy: 0.8917 - loss: 0.5047 - val_accuracy: 0.9333 - val_loss: 0.5754\n",
            "Epoch 8/10\n",
            "\u001b[1m9/9\u001b[0m \u001b[32m━━━━━━━━━━━━━━━━━━━━\u001b[0m\u001b[37m\u001b[0m \u001b[1m0s\u001b[0m 5ms/step - accuracy: 0.8728 - loss: 0.6504 - val_accuracy: 0.9333 - val_loss: 0.5053\n",
            "Epoch 9/10\n",
            "\u001b[1m9/9\u001b[0m \u001b[32m━━━━━━━━━━━━━━━━━━━━\u001b[0m\u001b[37m\u001b[0m \u001b[1m0s\u001b[0m 8ms/step - accuracy: 0.8577 - loss: 0.6399 - val_accuracy: 0.9333 - val_loss: 0.4320\n",
            "Epoch 10/10\n",
            "\u001b[1m9/9\u001b[0m \u001b[32m━━━━━━━━━━━━━━━━━━━━\u001b[0m\u001b[37m\u001b[0m \u001b[1m0s\u001b[0m 9ms/step - accuracy: 0.8915 - loss: 0.3906 - val_accuracy: 0.9333 - val_loss: 0.5924\n"
          ]
        },
        {
          "output_type": "execute_result",
          "data": {
            "text/plain": [
              "<keras.src.callbacks.history.History at 0x7e6f9ebbf4f0>"
            ]
          },
          "metadata": {},
          "execution_count": 147
        }
      ]
    },
    {
      "cell_type": "code",
      "source": [
        "## Step 6-1 Features 과 Taget, 모델 설정\n",
        "\n",
        "from tensorflow import keras\n",
        "from tensorflow.keras import layers\n",
        "import numpy as np\n",
        "import pandas as pd\n",
        "\n",
        "train_data = X_base_train[:520].astype(\"float32\")       ### 80% 과 20% 로 학습/검증 데이터 나눔 / 데이터의 형식을 float32 로 전환\n",
        "train_data_val = X_base_train[520:].astype(\"float32\")\n",
        "train_labels = y_base_train[:520].astype(\"float32\")\n",
        "train_labels_val = y_base_train[520:].astype(\"float32\")\n",
        "test_data = X_base_test.astype(\"float32\")\n",
        "test_labels = y_base_test.astype(\"float32\")"
      ],
      "metadata": {
        "id": "bGmVIZ0hmqh5"
      },
      "execution_count": null,
      "outputs": []
    },
    {
      "cell_type": "code",
      "source": [
        "## Step 6-2 훈련, 검증 실행\n",
        "\n",
        "model = keras.Sequential([                           ### 2겹의 중간층과 1겹의 출력층을 가진 3겹 모델\n",
        "        layers.Dense(16, activation=\"relu\"),\n",
        "        layers.Dense(16, activation=\"relu\"),\n",
        "        layers.Dense(1, activation=\"sigmoid\")       ### 이진분류이기에 Sigmoid 를 활성화 함수로 사용함\n",
        "  ])\n",
        "\n",
        "model.compile(optimizer=\"rmsprop\",\n",
        "              loss=\"binary_crossentropy\",\n",
        "              metrics=[\"accuracy\"])\n",
        "\n",
        "dl_case = model.fit(train_data, train_labels, epochs=10, batch_size=64, validation_data=(train_data_val, train_labels_val))\n",
        "### 향후 분석을 위해 모델 훈련/검증 결과를 deeplearning case (dl_case) 로 칭함"
      ],
      "metadata": {
        "colab": {
          "base_uri": "https://localhost:8080/"
        },
        "id": "z70zYOqLeApV",
        "outputId": "f673c060-5265-4c4b-f808-a9a37369b9e9"
      },
      "execution_count": null,
      "outputs": [
        {
          "output_type": "stream",
          "name": "stdout",
          "text": [
            "Epoch 1/10\n",
            "\u001b[1m9/9\u001b[0m \u001b[32m━━━━━━━━━━━━━━━━━━━━\u001b[0m\u001b[37m\u001b[0m \u001b[1m2s\u001b[0m 45ms/step - accuracy: 0.0974 - loss: 29.9164 - val_accuracy: 0.0917 - val_loss: 13.1730\n",
            "Epoch 2/10\n",
            "\u001b[1m9/9\u001b[0m \u001b[32m━━━━━━━━━━━━━━━━━━━━\u001b[0m\u001b[37m\u001b[0m \u001b[1m0s\u001b[0m 10ms/step - accuracy: 0.2037 - loss: 8.8295 - val_accuracy: 0.5250 - val_loss: 2.2640\n",
            "Epoch 3/10\n",
            "\u001b[1m9/9\u001b[0m \u001b[32m━━━━━━━━━━━━━━━━━━━━\u001b[0m\u001b[37m\u001b[0m \u001b[1m0s\u001b[0m 9ms/step - accuracy: 0.6296 - loss: 2.0294 - val_accuracy: 0.7417 - val_loss: 1.1208\n",
            "Epoch 4/10\n",
            "\u001b[1m9/9\u001b[0m \u001b[32m━━━━━━━━━━━━━━━━━━━━\u001b[0m\u001b[37m\u001b[0m \u001b[1m0s\u001b[0m 13ms/step - accuracy: 0.7921 - loss: 1.4152 - val_accuracy: 0.7750 - val_loss: 0.9744\n",
            "Epoch 5/10\n",
            "\u001b[1m9/9\u001b[0m \u001b[32m━━━━━━━━━━━━━━━━━━━━\u001b[0m\u001b[37m\u001b[0m \u001b[1m0s\u001b[0m 6ms/step - accuracy: 0.7912 - loss: 1.5193 - val_accuracy: 0.7833 - val_loss: 0.8750\n",
            "Epoch 6/10\n",
            "\u001b[1m9/9\u001b[0m \u001b[32m━━━━━━━━━━━━━━━━━━━━\u001b[0m\u001b[37m\u001b[0m \u001b[1m0s\u001b[0m 9ms/step - accuracy: 0.8224 - loss: 1.1932 - val_accuracy: 0.7833 - val_loss: 0.8766\n",
            "Epoch 7/10\n",
            "\u001b[1m9/9\u001b[0m \u001b[32m━━━━━━━━━━━━━━━━━━━━\u001b[0m\u001b[37m\u001b[0m \u001b[1m0s\u001b[0m 9ms/step - accuracy: 0.8220 - loss: 1.1559 - val_accuracy: 0.8083 - val_loss: 0.7803\n",
            "Epoch 8/10\n",
            "\u001b[1m9/9\u001b[0m \u001b[32m━━━━━━━━━━━━━━━━━━━━\u001b[0m\u001b[37m\u001b[0m \u001b[1m0s\u001b[0m 16ms/step - accuracy: 0.8272 - loss: 0.9963 - val_accuracy: 0.8667 - val_loss: 0.7467\n",
            "Epoch 9/10\n",
            "\u001b[1m9/9\u001b[0m \u001b[32m━━━━━━━━━━━━━━━━━━━━\u001b[0m\u001b[37m\u001b[0m \u001b[1m0s\u001b[0m 11ms/step - accuracy: 0.8630 - loss: 0.8082 - val_accuracy: 0.7417 - val_loss: 0.8079\n",
            "Epoch 10/10\n",
            "\u001b[1m9/9\u001b[0m \u001b[32m━━━━━━━━━━━━━━━━━━━━\u001b[0m\u001b[37m\u001b[0m \u001b[1m0s\u001b[0m 14ms/step - accuracy: 0.7653 - loss: 1.1158 - val_accuracy: 0.8750 - val_loss: 0.6572\n"
          ]
        }
      ]
    },
    {
      "source": [
        "dl_case_dict = dl_case.history\n",
        "dl_case_dict.keys()\n",
        "\n",
        "import matplotlib.pyplot as plt\n",
        "\n",
        "loss_values = dl_case_dict[\"loss\"]\n",
        "val_loss_values = dl_case_dict[\"val_loss\"]\n",
        "epochs = range(1, len(loss_values) + 1)\n",
        "plt.plot(epochs, loss_values, \"bo\", label=\"Training loss\")\n",
        "plt.plot(epochs, val_loss_values, \"b\", label=\"Validation loss\")\n",
        "plt.title(\"Training and validation loss\")\n",
        "plt.xlabel(\"Epochs\")\n",
        "plt.ylabel(\"Loss\")\n",
        "plt.legend()\n",
        "plt.show()"
      ],
      "cell_type": "code",
      "metadata": {
        "colab": {
          "base_uri": "https://localhost:8080/",
          "height": 472
        },
        "id": "vfuyXbLdv3Vp",
        "outputId": "f455bbfa-5ab2-4398-c465-9f4819c416fa"
      },
      "execution_count": null,
      "outputs": [
        {
          "output_type": "display_data",
          "data": {
            "text/plain": [
              "<Figure size 640x480 with 1 Axes>"
            ],
            "image/png": "[encoded data removed]"
          },
          "metadata": {}
        }
      ]
    },
    {
      "cell_type": "code",
      "source": [
        "plt.clf()\n",
        "acc = dl_case_dict[\"accuracy\"]\n",
        "val_acc = dl_case_dict[\"val_accuracy\"]\n",
        "plt.plot(epochs, acc, \"bo\", label=\"Training acc\")\n",
        "plt.plot(epochs, val_acc, \"b\", label=\"Validation acc\")\n",
        "plt.title(\"Training and validation accuracy\")\n",
        "plt.xlabel(\"Epochs\")\n",
        "plt.ylabel(\"Accuracy\")\n",
        "plt.legend()\n",
        "plt.show()"
      ],
      "metadata": {
        "colab": {
          "base_uri": "https://localhost:8080/",
          "height": 472
        },
        "id": "H03ZOi7wwDiK",
        "outputId": "2af4f3d8-bdb3-4c48-b20e-ae6b9d849314"
      },
      "execution_count": null,
      "outputs": [
        {
          "output_type": "display_data",
          "data": {
            "text/plain": [
              "<Figure size 640x480 with 1 Axes>"
            ],
            "image/png": "[encoded data removed]"
          },
          "metadata": {}
        }
      ]
    },
    {
      "cell_type": "code",
      "source": [
        "results = model.evaluate(test_data,test_labels)"
      ],
      "metadata": {
        "colab": {
          "base_uri": "https://localhost:8080/"
        },
        "id": "o-SVupjywVAc",
        "outputId": "a1ece97a-1114-46a4-ef85-990fb2b09bde"
      },
      "execution_count": null,
      "outputs": [
        {
          "output_type": "stream",
          "name": "stdout",
          "text": [
            "\u001b[1m5/5\u001b[0m \u001b[32m━━━━━━━━━━━━━━━━━━━━\u001b[0m\u001b[37m\u001b[0m \u001b[1m0s\u001b[0m 4ms/step - accuracy: 0.8327 - loss: 0.9043 \n"
          ]
        }
      ]
    },
    {
      "cell_type": "markdown",
      "source": [
        "--------------------------------------------------------------------------------------------------------------------------------------------------------------"
      ],
      "metadata": {
        "id": "tJ35E6-uqRPE"
      }
    },
    {
      "cell_type": "markdown",
      "source": [
        "**< 회고 >**\n",
        "\n",
        "- 범주형 데이터의 정규화에 대한 Step 3-4 에 대한 이해 보강 필요함:\n",
        "https://pandas.pydata.org/docs/user_guide/basics.html#comparing-if-objects-are-equivalent\n",
        "\n",
        "- 속성 변수 중 \"Total\" 값이 갖는 특이성에 대해 탐색적 데이터 분석에서 설명이 되었으나, 시간상 제약으로 이를 실제 분석에 이용하지 못함\n",
        "\n",
        "- 머신러닝 결과치 (정확도) 와 딥러닝 결과치를 숫자 그대로 비교해도 되는지에 대한 확인이 필요함\n",
        "\n",
        "- 머신러닝을 이용한 결과물의 평가 지표 (정확성 등) 개선을 위한 모델 조정 작업을 시간적 제약으로 인해 진행하지 못함"
      ],
      "metadata": {
        "id": "aBJlpN2BqUZk"
      }
    }
  ]
}