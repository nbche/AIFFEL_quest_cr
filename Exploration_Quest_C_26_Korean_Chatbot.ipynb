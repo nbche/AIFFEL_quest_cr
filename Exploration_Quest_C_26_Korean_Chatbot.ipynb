{
  "nbformat": 4,
  "nbformat_minor": 0,
  "metadata": {
    "colab": {
      "provenance": [],
      "gpuType": "T4",
      "mount_file_id": "19Svv_Io9BWrwFl-JFYHw6woUbdzHhA27",
      "authorship_tag": "ABX9TyOe0iShwKvb6304frbAComA",
      "include_colab_link": true
    },
    "kernelspec": {
      "name": "python3",
      "display_name": "Python 3"
    },
    "language_info": {
      "name": "python"
    },
    "accelerator": "GPU"
  },
  "cells": [
    {
      "cell_type": "markdown",
      "metadata": {
        "id": "view-in-github",
        "colab_type": "text"
      },
      "source": [
        "<a href=\"https://colab.research.google.com/github/nbche/AIFFEL_quest_cr/blob/main/Exploration_Quest_C_26_Korean_Chatbot.ipynb\" target=\"_parent\"><img src=\"https://colab.research.google.com/assets/colab-badge.svg\" alt=\"Open In Colab\"/></a>"
      ]
    },
    {
      "cell_type": "markdown",
      "source": [
        "**# 한글용 전처리 함수를 사용한 경우**"
      ],
      "metadata": {
        "id": "DtyLng4u_IK4"
      }
    },
    {
      "cell_type": "markdown",
      "source": [
        "**Step 1. 라이브러리/데이터 다운로드**"
      ],
      "metadata": {
        "id": "rSPayOswTD8Q"
      }
    },
    {
      "cell_type": "code",
      "execution_count": 1,
      "metadata": {
        "id": "-9rLikh_FUrT"
      },
      "outputs": [],
      "source": [
        "import tensorflow as tf\n",
        "import tensorflow_datasets as tfds\n",
        "import os\n",
        "import re\n",
        "import numpy as np\n",
        "import matplotlib.pyplot as plt"
      ]
    },
    {
      "cell_type": "code",
      "source": [
        "from google.colab import drive\n",
        "drive.mount('/content/drive')\n",
        "\n",
        "# Define the file path\n",
        "file_path = '/content/drive/MyDrive/Data/ChatbotData.csv'\n",
        "# Open the file using the file path\n",
        "open(file_path)\n",
        "# 파일을 데이터화\n",
        "data = pd.read_csv(file_path)"
      ],
      "metadata": {
        "colab": {
          "base_uri": "https://localhost:8080/"
        },
        "id": "KP_R0SpaVV0Q",
        "outputId": "d5f09203-4a63-4685-89d0-d6750e14c9f8"
      },
      "execution_count": 16,
      "outputs": [
        {
          "output_type": "stream",
          "name": "stdout",
          "text": [
            "Drive already mounted at /content/drive; to attempt to forcibly remount, call drive.mount(\"/content/drive\", force_remount=True).\n"
          ]
        }
      ]
    },
    {
      "cell_type": "markdown",
      "source": [
        "**Step 2. 데이터 분석**"
      ],
      "metadata": {
        "id": "HYC0XAu9pwSn"
      }
    },
    {
      "cell_type": "code",
      "source": [
        "data.head()"
      ],
      "metadata": {
        "colab": {
          "base_uri": "https://localhost:8080/",
          "height": 206
        },
        "id": "r7fFDuKVf9E0",
        "outputId": "bec1b88f-4a67-49de-b9ab-7cf89a94fb6a"
      },
      "execution_count": 21,
      "outputs": [
        {
          "output_type": "execute_result",
          "data": {
            "text/plain": [
              "                 Q            A  label\n",
              "0           12시 땡!   하루가 또 가네요.      0\n",
              "1      1지망 학교 떨어졌어    위로해 드립니다.      0\n",
              "2     3박4일 놀러가고 싶다  여행은 언제나 좋죠.      0\n",
              "3  3박4일 정도 놀러가고 싶다  여행은 언제나 좋죠.      0\n",
              "4          PPL 심하네   눈살이 찌푸려지죠.      0"
            ],
            "text/html": [
              "\n",
              "  <div id=\"df-568b7637-fb2c-4e2f-8bca-d0303bf0661f\" class=\"colab-df-container\">\n",
              "    <div>\n",
              "<style scoped>\n",
              "    .dataframe tbody tr th:only-of-type {\n",
              "        vertical-align: middle;\n",
              "    }\n",
              "\n",
              "    .dataframe tbody tr th {\n",
              "        vertical-align: top;\n",
              "    }\n",
              "\n",
              "    .dataframe thead th {\n",
              "        text-align: right;\n",
              "    }\n",
              "</style>\n",
              "<table border=\"1\" class=\"dataframe\">\n",
              "  <thead>\n",
              "    <tr style=\"text-align: right;\">\n",
              "      <th></th>\n",
              "      <th>Q</th>\n",
              "      <th>A</th>\n",
              "      <th>label</th>\n",
              "    </tr>\n",
              "  </thead>\n",
              "  <tbody>\n",
              "    <tr>\n",
              "      <th>0</th>\n",
              "      <td>12시 땡!</td>\n",
              "      <td>하루가 또 가네요.</td>\n",
              "      <td>0</td>\n",
              "    </tr>\n",
              "    <tr>\n",
              "      <th>1</th>\n",
              "      <td>1지망 학교 떨어졌어</td>\n",
              "      <td>위로해 드립니다.</td>\n",
              "      <td>0</td>\n",
              "    </tr>\n",
              "    <tr>\n",
              "      <th>2</th>\n",
              "      <td>3박4일 놀러가고 싶다</td>\n",
              "      <td>여행은 언제나 좋죠.</td>\n",
              "      <td>0</td>\n",
              "    </tr>\n",
              "    <tr>\n",
              "      <th>3</th>\n",
              "      <td>3박4일 정도 놀러가고 싶다</td>\n",
              "      <td>여행은 언제나 좋죠.</td>\n",
              "      <td>0</td>\n",
              "    </tr>\n",
              "    <tr>\n",
              "      <th>4</th>\n",
              "      <td>PPL 심하네</td>\n",
              "      <td>눈살이 찌푸려지죠.</td>\n",
              "      <td>0</td>\n",
              "    </tr>\n",
              "  </tbody>\n",
              "</table>\n",
              "</div>\n",
              "    <div class=\"colab-df-buttons\">\n",
              "\n",
              "  <div class=\"colab-df-container\">\n",
              "    <button class=\"colab-df-convert\" onclick=\"convertToInteractive('df-568b7637-fb2c-4e2f-8bca-d0303bf0661f')\"\n",
              "            title=\"Convert this dataframe to an interactive table.\"\n",
              "            style=\"display:none;\">\n",
              "\n",
              "  <svg xmlns=\"http://www.w3.org/2000/svg\" height=\"24px\" viewBox=\"0 -960 960 960\">\n",
              "    <path d=\"M120-120v-720h720v720H120Zm60-500h600v-160H180v160Zm220 220h160v-160H400v160Zm0 220h160v-160H400v160ZM180-400h160v-160H180v160Zm440 0h160v-160H620v160ZM180-180h160v-160H180v160Zm440 0h160v-160H620v160Z\"/>\n",
              "  </svg>\n",
              "    </button>\n",
              "\n",
              "  <style>\n",
              "    .colab-df-container {\n",
              "      display:flex;\n",
              "      gap: 12px;\n",
              "    }\n",
              "\n",
              "    .colab-df-convert {\n",
              "      background-color: #E8F0FE;\n",
              "      border: none;\n",
              "      border-radius: 50%;\n",
              "      cursor: pointer;\n",
              "      display: none;\n",
              "      fill: #1967D2;\n",
              "      height: 32px;\n",
              "      padding: 0 0 0 0;\n",
              "      width: 32px;\n",
              "    }\n",
              "\n",
              "    .colab-df-convert:hover {\n",
              "      background-color: #E2EBFA;\n",
              "      box-shadow: 0px 1px 2px rgba(60, 64, 67, 0.3), 0px 1px 3px 1px rgba(60, 64, 67, 0.15);\n",
              "      fill: #174EA6;\n",
              "    }\n",
              "\n",
              "    .colab-df-buttons div {\n",
              "      margin-bottom: 4px;\n",
              "    }\n",
              "\n",
              "    [theme=dark] .colab-df-convert {\n",
              "      background-color: #3B4455;\n",
              "      fill: #D2E3FC;\n",
              "    }\n",
              "\n",
              "    [theme=dark] .colab-df-convert:hover {\n",
              "      background-color: #434B5C;\n",
              "      box-shadow: 0px 1px 3px 1px rgba(0, 0, 0, 0.15);\n",
              "      filter: drop-shadow(0px 1px 2px rgba(0, 0, 0, 0.3));\n",
              "      fill: #FFFFFF;\n",
              "    }\n",
              "  </style>\n",
              "\n",
              "    <script>\n",
              "      const buttonEl =\n",
              "        document.querySelector('#df-568b7637-fb2c-4e2f-8bca-d0303bf0661f button.colab-df-convert');\n",
              "      buttonEl.style.display =\n",
              "        google.colab.kernel.accessAllowed ? 'block' : 'none';\n",
              "\n",
              "      async function convertToInteractive(key) {\n",
              "        const element = document.querySelector('#df-568b7637-fb2c-4e2f-8bca-d0303bf0661f');\n",
              "        const dataTable =\n",
              "          await google.colab.kernel.invokeFunction('convertToInteractive',\n",
              "                                                    [key], {});\n",
              "        if (!dataTable) return;\n",
              "\n",
              "        const docLinkHtml = 'Like what you see? Visit the ' +\n",
              "          '<a target=\"_blank\" href=https://colab.research.google.com/notebooks/data_table.ipynb>data table notebook</a>'\n",
              "          + ' to learn more about interactive tables.';\n",
              "        element.innerHTML = '';\n",
              "        dataTable['output_type'] = 'display_data';\n",
              "        await google.colab.output.renderOutput(dataTable, element);\n",
              "        const docLink = document.createElement('div');\n",
              "        docLink.innerHTML = docLinkHtml;\n",
              "        element.appendChild(docLink);\n",
              "      }\n",
              "    </script>\n",
              "  </div>\n",
              "\n",
              "\n",
              "<div id=\"df-017d1b3b-2a4d-46a9-b8b2-532a8b7127eb\">\n",
              "  <button class=\"colab-df-quickchart\" onclick=\"quickchart('df-017d1b3b-2a4d-46a9-b8b2-532a8b7127eb')\"\n",
              "            title=\"Suggest charts\"\n",
              "            style=\"display:none;\">\n",
              "\n",
              "<svg xmlns=\"http://www.w3.org/2000/svg\" height=\"24px\"viewBox=\"0 0 24 24\"\n",
              "     width=\"24px\">\n",
              "    <g>\n",
              "        <path d=\"M19 3H5c-1.1 0-2 .9-2 2v14c0 1.1.9 2 2 2h14c1.1 0 2-.9 2-2V5c0-1.1-.9-2-2-2zM9 17H7v-7h2v7zm4 0h-2V7h2v10zm4 0h-2v-4h2v4z\"/>\n",
              "    </g>\n",
              "</svg>\n",
              "  </button>\n",
              "\n",
              "<style>\n",
              "  .colab-df-quickchart {\n",
              "      --bg-color: #E8F0FE;\n",
              "      --fill-color: #1967D2;\n",
              "      --hover-bg-color: #E2EBFA;\n",
              "      --hover-fill-color: #174EA6;\n",
              "      --disabled-fill-color: #AAA;\n",
              "      --disabled-bg-color: #DDD;\n",
              "  }\n",
              "\n",
              "  [theme=dark] .colab-df-quickchart {\n",
              "      --bg-color: #3B4455;\n",
              "      --fill-color: #D2E3FC;\n",
              "      --hover-bg-color: #434B5C;\n",
              "      --hover-fill-color: #FFFFFF;\n",
              "      --disabled-bg-color: #3B4455;\n",
              "      --disabled-fill-color: #666;\n",
              "  }\n",
              "\n",
              "  .colab-df-quickchart {\n",
              "    background-color: var(--bg-color);\n",
              "    border: none;\n",
              "    border-radius: 50%;\n",
              "    cursor: pointer;\n",
              "    display: none;\n",
              "    fill: var(--fill-color);\n",
              "    height: 32px;\n",
              "    padding: 0;\n",
              "    width: 32px;\n",
              "  }\n",
              "\n",
              "  .colab-df-quickchart:hover {\n",
              "    background-color: var(--hover-bg-color);\n",
              "    box-shadow: 0 1px 2px rgba(60, 64, 67, 0.3), 0 1px 3px 1px rgba(60, 64, 67, 0.15);\n",
              "    fill: var(--button-hover-fill-color);\n",
              "  }\n",
              "\n",
              "  .colab-df-quickchart-complete:disabled,\n",
              "  .colab-df-quickchart-complete:disabled:hover {\n",
              "    background-color: var(--disabled-bg-color);\n",
              "    fill: var(--disabled-fill-color);\n",
              "    box-shadow: none;\n",
              "  }\n",
              "\n",
              "  .colab-df-spinner {\n",
              "    border: 2px solid var(--fill-color);\n",
              "    border-color: transparent;\n",
              "    border-bottom-color: var(--fill-color);\n",
              "    animation:\n",
              "      spin 1s steps(1) infinite;\n",
              "  }\n",
              "\n",
              "  @keyframes spin {\n",
              "    0% {\n",
              "      border-color: transparent;\n",
              "      border-bottom-color: var(--fill-color);\n",
              "      border-left-color: var(--fill-color);\n",
              "    }\n",
              "    20% {\n",
              "      border-color: transparent;\n",
              "      border-left-color: var(--fill-color);\n",
              "      border-top-color: var(--fill-color);\n",
              "    }\n",
              "    30% {\n",
              "      border-color: transparent;\n",
              "      border-left-color: var(--fill-color);\n",
              "      border-top-color: var(--fill-color);\n",
              "      border-right-color: var(--fill-color);\n",
              "    }\n",
              "    40% {\n",
              "      border-color: transparent;\n",
              "      border-right-color: var(--fill-color);\n",
              "      border-top-color: var(--fill-color);\n",
              "    }\n",
              "    60% {\n",
              "      border-color: transparent;\n",
              "      border-right-color: var(--fill-color);\n",
              "    }\n",
              "    80% {\n",
              "      border-color: transparent;\n",
              "      border-right-color: var(--fill-color);\n",
              "      border-bottom-color: var(--fill-color);\n",
              "    }\n",
              "    90% {\n",
              "      border-color: transparent;\n",
              "      border-bottom-color: var(--fill-color);\n",
              "    }\n",
              "  }\n",
              "</style>\n",
              "\n",
              "  <script>\n",
              "    async function quickchart(key) {\n",
              "      const quickchartButtonEl =\n",
              "        document.querySelector('#' + key + ' button');\n",
              "      quickchartButtonEl.disabled = true;  // To prevent multiple clicks.\n",
              "      quickchartButtonEl.classList.add('colab-df-spinner');\n",
              "      try {\n",
              "        const charts = await google.colab.kernel.invokeFunction(\n",
              "            'suggestCharts', [key], {});\n",
              "      } catch (error) {\n",
              "        console.error('Error during call to suggestCharts:', error);\n",
              "      }\n",
              "      quickchartButtonEl.classList.remove('colab-df-spinner');\n",
              "      quickchartButtonEl.classList.add('colab-df-quickchart-complete');\n",
              "    }\n",
              "    (() => {\n",
              "      let quickchartButtonEl =\n",
              "        document.querySelector('#df-017d1b3b-2a4d-46a9-b8b2-532a8b7127eb button');\n",
              "      quickchartButtonEl.style.display =\n",
              "        google.colab.kernel.accessAllowed ? 'block' : 'none';\n",
              "    })();\n",
              "  </script>\n",
              "</div>\n",
              "\n",
              "    </div>\n",
              "  </div>\n"
            ],
            "application/vnd.google.colaboratory.intrinsic+json": {
              "type": "dataframe",
              "variable_name": "data",
              "summary": "{\n  \"name\": \"data\",\n  \"rows\": 11823,\n  \"fields\": [\n    {\n      \"column\": \"Q\",\n      \"properties\": {\n        \"dtype\": \"string\",\n        \"num_unique_values\": 11662,\n        \"samples\": [\n          \"\\uc0ac\\ub791\\ud558\\ub294 \\uc0ac\\ub78c \\uc78a\\ub294 \\ubc95\",\n          \"\\uc220 \\uc548 \\uba39\\uc73c\\uba74 \\uce5c\\uad6c\\ub791 \\ubb50\\ud558\\uc9c0\",\n          \"\\uc9dd\\ub0a8\\uc774 \\uace0\\uc2dc\\uc0dd\\uc774\\uba74 \\uae30\\ub2e4\\ub824\\uc57c \\ud558\\ub098\\uc694?\"\n        ],\n        \"semantic_type\": \"\",\n        \"description\": \"\"\n      }\n    },\n    {\n      \"column\": \"A\",\n      \"properties\": {\n        \"dtype\": \"string\",\n        \"num_unique_values\": 7779,\n        \"samples\": [\n          \"\\uc720\\uba38\\ucf54\\ub4dc\\uac00 \\ub9de\\ub294 \\uc0ac\\ub78c\\uc744 \\ucc3e\\uc544\\ubcf4\\uc138\\uc694.\",\n          \"\\uc5ec\\ud589\\uc744 \\ub5a0\\ub098 \\ubcf4\\uc138\\uc694.\",\n          \"\\ud589\\ubcf5\\ud560 \\uac70\\ub77c \\uc0dd\\uac01\\ud574\\uc694.\"\n        ],\n        \"semantic_type\": \"\",\n        \"description\": \"\"\n      }\n    },\n    {\n      \"column\": \"label\",\n      \"properties\": {\n        \"dtype\": \"number\",\n        \"std\": 0,\n        \"min\": 0,\n        \"max\": 2,\n        \"num_unique_values\": 3,\n        \"samples\": [\n          0,\n          1,\n          2\n        ],\n        \"semantic_type\": \"\",\n        \"description\": \"\"\n      }\n    }\n  ]\n}"
            }
          },
          "metadata": {},
          "execution_count": 21
        }
      ]
    },
    {
      "cell_type": "code",
      "source": [
        "len(data)"
      ],
      "metadata": {
        "colab": {
          "base_uri": "https://localhost:8080/"
        },
        "id": "vKGnziu_0GPe",
        "outputId": "84a551e3-abd7-42cd-e98b-e990cab3f7ca"
      },
      "execution_count": 45,
      "outputs": [
        {
          "output_type": "execute_result",
          "data": {
            "text/plain": [
              "11823"
            ]
          },
          "metadata": {},
          "execution_count": 45
        }
      ]
    },
    {
      "cell_type": "code",
      "source": [
        "# 문장 길이용 칼럼 추가\n",
        "data['Q_length'] = data['Q'].apply(len)\n",
        "data['A_length'] = data['A'].apply(len)\n",
        "\n",
        "# 최대 길이 문장 찾기\n",
        "max_q_length = data['Q_length'].max()\n",
        "longest_q = data[data['Q_length'] == max_q_length]['Q'].values[0]\n",
        "\n",
        "max_a_length = data['A_length'].max()\n",
        "longest_a = data[data['A_length'] == max_a_length]['A'].values[0]\n",
        "print(f\"Longest Q: {longest_q} (Length: {max_q_length})\")\n",
        "print(f\"Longest A: {longest_a} (Length: {max_a_length})\")"
      ],
      "metadata": {
        "colab": {
          "base_uri": "https://localhost:8080/"
        },
        "id": "B-oPf7F_okA9",
        "outputId": "992fa6de-3d66-463a-97f9-ec79d26aea7c"
      },
      "execution_count": 26,
      "outputs": [
        {
          "output_type": "stream",
          "name": "stdout",
          "text": [
            "Longest Q: 확실히 좋아하는 데도 관심 있는거 티 안내려고 선톡 안하고 일부러 늦게 보내고 그러는 사람도 있어요? (Length: 56)\n",
            "Longest A: 연애는 문제가 있으면 문제를 해결 하기 위해 함께 노력하고 그 속에서 더욱 단단해지는 과정인데, 그 과정을 못 참고 피하기만 했나봅니다. (Length: 76)\n"
          ]
        }
      ]
    },
    {
      "cell_type": "markdown",
      "source": [
        "**Step 3 데이터 전처리 / 토큰처리**"
      ],
      "metadata": {
        "id": "QPuw6eo7x1dC"
      }
    },
    {
      "cell_type": "code",
      "source": [
        "import pandas as pd\n",
        "from konlpy.tag import Okt\n",
        "\n",
        "# KoNLPy의 Okt 클래스 사용\n",
        "okt = Okt()\n",
        "\n",
        "# 'Q' 열과 'A' 열의 텍스트 데이터 전처리 및 토큰화 예제\n",
        "def preprocess_and_tokenize(text):\n",
        "    # 텍스트 정규화\n",
        "    text = okt.normalize(text)\n",
        "    text2 = text.lower().strip() # 대문자를 소문자로 전환\n",
        "    text3 = re.sub(r\"[^a-zA-Z가-힣\\s]\", \"\", text2) # 알파벳 문자 (소문자, 대문자)와 한국어 문자를 제외한 모든 특수 문자를 공백으로 대체\n",
        "    return text3\n",
        "\n",
        "    # 텍스트 토큰화\n",
        "    tokens = okt.morphs(text3, stem=True)\n",
        "    return tokens\n",
        "\n",
        "# 각 열의 전처리된 텍스트 데이터 저장\n",
        "data['Q_tokenized'] = data['Q'].apply(preprocess_and_tokenize)\n",
        "data['A_tokenized'] = data['A'].apply(preprocess_and_tokenize)\n",
        "\n",
        "# 전처리된 데이터 출력 (선택적)\n",
        "print(data[['Q','Q_tokenized', 'A','A_tokenized']].head())"
      ],
      "metadata": {
        "colab": {
          "base_uri": "https://localhost:8080/"
        },
        "id": "LDHl22tDrP9k",
        "outputId": "eae674ec-66eb-4439-d635-2cb0a9213c74"
      },
      "execution_count": 40,
      "outputs": [
        {
          "output_type": "stream",
          "name": "stdout",
          "text": [
            "                 Q    Q_tokenized            A A_tokenized\n",
            "0           12시 땡!            시 땡   하루가 또 가네요.   하루가 또 가네요\n",
            "1      1지망 학교 떨어졌어     지망 학교 떨어졌어    위로해 드립니다.    위로해 드립니다\n",
            "2     3박4일 놀러가고 싶다     박일 놀러가고 싶다  여행은 언제나 좋죠.  여행은 언제나 좋죠\n",
            "3  3박4일 정도 놀러가고 싶다  박일 정도 놀러가고 싶다  여행은 언제나 좋죠.  여행은 언제나 좋죠\n",
            "4          PPL 심하네        ppl 심하네   눈살이 찌푸려지죠.   눈살이 찌푸려지죠\n"
          ]
        }
      ]
    },
    {
      "cell_type": "code",
      "source": [
        "len(data['Q_tokenized'])"
      ],
      "metadata": {
        "colab": {
          "base_uri": "https://localhost:8080/"
        },
        "id": "tHWDYRYt0ViO",
        "outputId": "ab60b764-aab7-4595-f513-ace60ce72e34"
      },
      "execution_count": 48,
      "outputs": [
        {
          "output_type": "execute_result",
          "data": {
            "text/plain": [
              "11823"
            ]
          },
          "metadata": {},
          "execution_count": 48
        }
      ]
    },
    {
      "cell_type": "code",
      "source": [
        "# 문장 길이용 칼럼 추가\n",
        "data['Q_tokenized_length'] = data['Q_tokenized'].apply(len)\n",
        "data['A_tokenized_length'] = data['A_tokenized'].apply(len)\n",
        "\n",
        "# 최대 길이 문장 찾기\n",
        "max_q_length = data['Q_tokenized_length'].max()\n",
        "longest_q = data[data['Q_tokenized_length'] == max_q_length]['Q_tokenized'].values[0]\n",
        "\n",
        "max_a_length = data['A_tokenized_length'].max()\n",
        "longest_a = data[data['A_tokenized_length'] == max_a_length]['A_tokenized'].values[0]\n",
        "print(f\"Longest Q_tokenized: {longest_q} (Length: {max_q_length})\")\n",
        "print(f\"Longest A_tokenized: {longest_a} (Length: {max_a_length})\")"
      ],
      "metadata": {
        "colab": {
          "base_uri": "https://localhost:8080/"
        },
        "id": "yc7vx1se0eyt",
        "outputId": "c326e9a0-03cc-42cb-a938-f4eb51c818cc"
      },
      "execution_count": 49,
      "outputs": [
        {
          "output_type": "stream",
          "name": "stdout",
          "text": [
            "Longest Q_tokenized: 확실히 좋아하는 데도 관심 있는거 티 안내려고 선톡 안하고 일부러 늦게 보내고 그러는 사람도 있어요 (Length: 55)\n",
            "Longest A_tokenized: 연애는 문제가 있으면 문제를 해결 하기 위해 함께 노력하고 그 속에서 더욱 단단해지는 과정인데 그 과정을 못 참고 피하기만 했나봅니다 (Length: 74)\n"
          ]
        }
      ]
    },
    {
      "cell_type": "markdown",
      "source": [
        "**Step 4. 말뭉치 만들기**"
      ],
      "metadata": {
        "id": "7I9zqJttULUB"
      }
    },
    {
      "cell_type": "code",
      "source": [
        "# Tokenizer 인스턴스 생성 및 어휘집 구축\n",
        "tokenizer = tf.keras.preprocessing.text.Tokenizer(oov_token='<OOV>')\n",
        "tokenizer.fit_on_texts(data['Q_tokenized'])\n",
        "tokenizer.fit_on_texts(data['A_tokenized'])\n",
        "\n",
        "# 텍스트를 시퀀스로 변환\n",
        "Q_sequences = tokenizer.texts_to_sequences(data['Q_tokenized'])\n",
        "A_sequences = tokenizer.texts_to_sequences(data['A_tokenized'])\n",
        "\n",
        "# 최대 길이 설정\n",
        "MAX_LENGTH = 50\n",
        "\n",
        "# 시퀀스 패딩\n",
        "tokenized_inputs = tf.keras.preprocessing.sequence.pad_sequences(\n",
        "    Q_sequences, maxlen=MAX_LENGTH, padding='post')\n",
        "tokenized_outputs = tf.keras.preprocessing.sequence.pad_sequences(\n",
        "    A_sequences, maxlen=MAX_LENGTH, padding='post')\n",
        "\n",
        "# 결과 반환\n",
        "def prepare_data(data, tokenizer, max_length):\n",
        "    Q_sequences = tokenizer.texts_to_sequences(data['Q_tokenized'])\n",
        "    A_sequences = tokenizer.texts_to_sequences(data['A_tokenized'])\n",
        "\n",
        "    tokenized_inputs = tf.keras.preprocessing.sequence.pad_sequences(\n",
        "        Q_sequences, maxlen=max_length, padding='post')\n",
        "    tokenized_outputs = tf.keras.preprocessing.sequence.pad_sequences(\n",
        "        A_sequences, maxlen=max_length, padding='post')\n",
        "\n",
        "    return tokenized_inputs, tokenized_outputs"
      ],
      "metadata": {
        "id": "YDfV-01dy7GG"
      },
      "execution_count": 41,
      "outputs": []
    },
    {
      "cell_type": "code",
      "source": [
        "import numpy as np\n",
        "\n",
        "# Assuming you want to get the number of elements in tokenized_inputs\n",
        "num_elements = len(tokenized_inputs)\n",
        "print(num_elements)"
      ],
      "metadata": {
        "colab": {
          "base_uri": "https://localhost:8080/"
        },
        "id": "FkZjh7oQz-hm",
        "outputId": "f43bdf98-8ba5-4edf-f845-16f6d9356c20"
      },
      "execution_count": 47,
      "outputs": [
        {
          "output_type": "stream",
          "name": "stdout",
          "text": [
            "11823\n"
          ]
        }
      ]
    },
    {
      "cell_type": "markdown",
      "source": [
        "----------------------------------------------------------------------------------------------------------------------------------------------------------------"
      ],
      "metadata": {
        "id": "WddMHN9W42XP"
      }
    },
    {
      "cell_type": "markdown",
      "source": [
        "**# BART(Bidirectional and Auto-Regressive Transformers) 모델 활용하기**"
      ],
      "metadata": {
        "id": "QgVgGLE41lMn"
      }
    },
    {
      "cell_type": "code",
      "source": [
        "!pip install transformers tensorflow\n",
        "import tensorflow as tf\n",
        "from transformers import BartTokenizer, TFBartForConditionalGeneration, BartConfig"
      ],
      "metadata": {
        "colab": {
          "base_uri": "https://localhost:8080/"
        },
        "collapsed": true,
        "id": "QGwixJp03fc9",
        "outputId": "42ba8ae8-f269-4a48-d98a-355b1e3fc66f"
      },
      "execution_count": 1,
      "outputs": [
        {
          "output_type": "stream",
          "name": "stdout",
          "text": [
            "Requirement already satisfied: transformers in /usr/local/lib/python3.11/dist-packages (4.48.3)\n",
            "Requirement already satisfied: tensorflow in /usr/local/lib/python3.11/dist-packages (2.18.0)\n",
            "Requirement already satisfied: filelock in /usr/local/lib/python3.11/dist-packages (from transformers) (3.17.0)\n",
            "Requirement already satisfied: huggingface-hub<1.0,>=0.24.0 in /usr/local/lib/python3.11/dist-packages (from transformers) (0.28.1)\n",
            "Requirement already satisfied: numpy>=1.17 in /usr/local/lib/python3.11/dist-packages (from transformers) (2.0.2)\n",
            "Requirement already satisfied: packaging>=20.0 in /usr/local/lib/python3.11/dist-packages (from transformers) (24.2)\n",
            "Requirement already satisfied: pyyaml>=5.1 in /usr/local/lib/python3.11/dist-packages (from transformers) (6.0.2)\n",
            "Requirement already satisfied: regex!=2019.12.17 in /usr/local/lib/python3.11/dist-packages (from transformers) (2024.11.6)\n",
            "Requirement already satisfied: requests in /usr/local/lib/python3.11/dist-packages (from transformers) (2.32.3)\n",
            "Requirement already satisfied: tokenizers<0.22,>=0.21 in /usr/local/lib/python3.11/dist-packages (from transformers) (0.21.1)\n",
            "Requirement already satisfied: safetensors>=0.4.1 in /usr/local/lib/python3.11/dist-packages (from transformers) (0.5.3)\n",
            "Requirement already satisfied: tqdm>=4.27 in /usr/local/lib/python3.11/dist-packages (from transformers) (4.67.1)\n",
            "Requirement already satisfied: absl-py>=1.0.0 in /usr/local/lib/python3.11/dist-packages (from tensorflow) (1.4.0)\n",
            "Requirement already satisfied: astunparse>=1.6.0 in /usr/local/lib/python3.11/dist-packages (from tensorflow) (1.6.3)\n",
            "Requirement already satisfied: flatbuffers>=24.3.25 in /usr/local/lib/python3.11/dist-packages (from tensorflow) (25.2.10)\n",
            "Requirement already satisfied: gast!=0.5.0,!=0.5.1,!=0.5.2,>=0.2.1 in /usr/local/lib/python3.11/dist-packages (from tensorflow) (0.6.0)\n",
            "Requirement already satisfied: google-pasta>=0.1.1 in /usr/local/lib/python3.11/dist-packages (from tensorflow) (0.2.0)\n",
            "Requirement already satisfied: libclang>=13.0.0 in /usr/local/lib/python3.11/dist-packages (from tensorflow) (18.1.1)\n",
            "Requirement already satisfied: opt-einsum>=2.3.2 in /usr/local/lib/python3.11/dist-packages (from tensorflow) (3.4.0)\n",
            "Requirement already satisfied: protobuf!=4.21.0,!=4.21.1,!=4.21.2,!=4.21.3,!=4.21.4,!=4.21.5,<6.0.0dev,>=3.20.3 in /usr/local/lib/python3.11/dist-packages (from tensorflow) (4.25.6)\n",
            "Requirement already satisfied: setuptools in /usr/local/lib/python3.11/dist-packages (from tensorflow) (75.1.0)\n",
            "Requirement already satisfied: six>=1.12.0 in /usr/local/lib/python3.11/dist-packages (from tensorflow) (1.17.0)\n",
            "Requirement already satisfied: termcolor>=1.1.0 in /usr/local/lib/python3.11/dist-packages (from tensorflow) (2.5.0)\n",
            "Requirement already satisfied: typing-extensions>=3.6.6 in /usr/local/lib/python3.11/dist-packages (from tensorflow) (4.12.2)\n",
            "Requirement already satisfied: wrapt>=1.11.0 in /usr/local/lib/python3.11/dist-packages (from tensorflow) (1.17.2)\n",
            "Requirement already satisfied: grpcio<2.0,>=1.24.3 in /usr/local/lib/python3.11/dist-packages (from tensorflow) (1.71.0)\n",
            "Requirement already satisfied: tensorboard<2.19,>=2.18 in /usr/local/lib/python3.11/dist-packages (from tensorflow) (2.18.0)\n",
            "Requirement already satisfied: keras>=3.5.0 in /usr/local/lib/python3.11/dist-packages (from tensorflow) (3.8.0)\n",
            "Requirement already satisfied: h5py>=3.11.0 in /usr/local/lib/python3.11/dist-packages (from tensorflow) (3.12.1)\n",
            "Requirement already satisfied: ml-dtypes<0.5.0,>=0.4.0 in /usr/local/lib/python3.11/dist-packages (from tensorflow) (0.4.1)\n",
            "Requirement already satisfied: tensorflow-io-gcs-filesystem>=0.23.1 in /usr/local/lib/python3.11/dist-packages (from tensorflow) (0.37.1)\n",
            "Requirement already satisfied: wheel<1.0,>=0.23.0 in /usr/local/lib/python3.11/dist-packages (from astunparse>=1.6.0->tensorflow) (0.45.1)\n",
            "Requirement already satisfied: fsspec>=2023.5.0 in /usr/local/lib/python3.11/dist-packages (from huggingface-hub<1.0,>=0.24.0->transformers) (2024.10.0)\n",
            "Requirement already satisfied: rich in /usr/local/lib/python3.11/dist-packages (from keras>=3.5.0->tensorflow) (13.9.4)\n",
            "Requirement already satisfied: namex in /usr/local/lib/python3.11/dist-packages (from keras>=3.5.0->tensorflow) (0.0.8)\n",
            "Requirement already satisfied: optree in /usr/local/lib/python3.11/dist-packages (from keras>=3.5.0->tensorflow) (0.14.1)\n",
            "Requirement already satisfied: charset-normalizer<4,>=2 in /usr/local/lib/python3.11/dist-packages (from requests->transformers) (3.4.1)\n",
            "Requirement already satisfied: idna<4,>=2.5 in /usr/local/lib/python3.11/dist-packages (from requests->transformers) (3.10)\n",
            "Requirement already satisfied: urllib3<3,>=1.21.1 in /usr/local/lib/python3.11/dist-packages (from requests->transformers) (2.3.0)\n",
            "Requirement already satisfied: certifi>=2017.4.17 in /usr/local/lib/python3.11/dist-packages (from requests->transformers) (2025.1.31)\n",
            "Requirement already satisfied: markdown>=2.6.8 in /usr/local/lib/python3.11/dist-packages (from tensorboard<2.19,>=2.18->tensorflow) (3.7)\n",
            "Requirement already satisfied: tensorboard-data-server<0.8.0,>=0.7.0 in /usr/local/lib/python3.11/dist-packages (from tensorboard<2.19,>=2.18->tensorflow) (0.7.2)\n",
            "Requirement already satisfied: werkzeug>=1.0.1 in /usr/local/lib/python3.11/dist-packages (from tensorboard<2.19,>=2.18->tensorflow) (3.1.3)\n",
            "Requirement already satisfied: MarkupSafe>=2.1.1 in /usr/local/lib/python3.11/dist-packages (from werkzeug>=1.0.1->tensorboard<2.19,>=2.18->tensorflow) (3.0.2)\n",
            "Requirement already satisfied: markdown-it-py>=2.2.0 in /usr/local/lib/python3.11/dist-packages (from rich->keras>=3.5.0->tensorflow) (3.0.0)\n",
            "Requirement already satisfied: pygments<3.0.0,>=2.13.0 in /usr/local/lib/python3.11/dist-packages (from rich->keras>=3.5.0->tensorflow) (2.18.0)\n",
            "Requirement already satisfied: mdurl~=0.1 in /usr/local/lib/python3.11/dist-packages (from markdown-it-py>=2.2.0->rich->keras>=3.5.0->tensorflow) (0.1.2)\n"
          ]
        }
      ]
    },
    {
      "cell_type": "code",
      "source": [
        "import pandas as pd\n",
        "import tensorflow as tf\n",
        "from transformers import BartTokenizer, TFBartForConditionalGeneration, BartConfig\n",
        "import os\n",
        "from google.colab import drive\n",
        "\n",
        "# Google Drive 마운트\n",
        "drive.mount('/content/drive')\n",
        "\n",
        "# CSV 파일 경로 설정\n",
        "file_path = '/content/drive/MyDrive/Data/ChatbotData.csv'\n",
        "\n",
        "# CSV 파일 읽어오기\n",
        "data = pd.read_csv(file_path)\n",
        "\n",
        "# 데이터 확인\n",
        "print(data.head())\n",
        "\n",
        "# BART 토크나이저 불러오기\n",
        "tokenizer = BartTokenizer.from_pretrained('facebook/bart-base')\n",
        "\n",
        "# 새로운 BART 모델 구성\n",
        "config = BartConfig(\n",
        "    vocab_size=len(tokenizer),\n",
        "    max_position_embeddings=512,\n",
        "    encoder_layers=6,\n",
        "    encoder_ffn_dim=3072,\n",
        "    encoder_attention_heads=12,\n",
        "    decoder_layers=6,\n",
        "    decoder_ffn_dim=3072,\n",
        "    decoder_attention_heads=12,\n",
        "    activation_function='gelu',\n",
        "    d_model=768,\n",
        "    dropout=0.1,\n",
        "    attention_dropout=0.1,\n",
        "    encoder_layerdrop=0.0,\n",
        "    decoder_layerdrop=0.0,\n",
        "    init_std=0.02,\n",
        "    num_labels=3,\n",
        "    forced_eos_token_id=tokenizer.eos_token_id,\n",
        ")\n",
        "model = TFBartForConditionalGeneration(config)\n",
        "\n",
        "# 텍스트 리스트를 토큰화하고 시퀀스로 변환하는 함수\n",
        "def tokenize_and_encode(text_list, tokenizer):\n",
        "    return [tokenizer.encode(text, return_tensors='tf', max_length=50, truncation=True, padding='max_length') for text in text_list]\n",
        "\n",
        "# 질문과 답변을 토큰화하고 시퀀스로 변환\n",
        "Q_tokenized = tokenize_and_encode(data['Q'].tolist(), tokenizer)\n",
        "A_tokenized = tokenize_and_encode(data['A'].tolist(), tokenizer)\n",
        "\n",
        "# 입력과 출력을 합쳐서 모델 입력 형식으로 준비\n",
        "inputs = tf.concat(Q_tokenized, 0)\n",
        "labels = tf.concat(A_tokenized, 0)\n",
        "\n",
        "# 학습 데이터셋 준비\n",
        "dataset = tf.data.Dataset.from_tensor_slices((inputs, labels)).shuffle(len(inputs)).batch(4)\n",
        "\n",
        "# Google Drive 내의 폴더 경로 설정\n",
        "checkpoint_dir = '/content/drive/MyDrive/model_checkpoints'\n",
        "\n",
        "# 디렉토리가 존재하지 않을 경우 생성\n",
        "if not os.path.exists(checkpoint_dir):\n",
        "    os.makedirs(checkpoint_dir)\n",
        "\n",
        "checkpoint_path = os.path.join(checkpoint_dir, \"best_model.ckpt\")\n",
        "\n",
        "# 체크포인트 콜백 설정\n",
        "cp_callback = tf.keras.callbacks.ModelCheckpoint(\n",
        "    filepath=checkpoint_path,\n",
        "    monitor='loss',  # 훈련 손실을 기준으로 성능 모니터링\n",
        "    verbose=1,\n",
        "    save_weights_only=True,\n",
        "    save_best_only=True)  # 성능이 향상될 때만 모델 저장\n",
        "\n",
        "# 조기 종료 콜백 설정\n",
        "early_stop_callback = tf.keras.callbacks.EarlyStopping(\n",
        "    monitor='loss',  # 훈련 손실을 모니터링\n",
        "    patience=2,      # 손실이 개선되지 않을 경우 참을성 단계\n",
        "    verbose=1,\n",
        "    restore_best_weights=True)\n",
        "\n",
        "# 모델 컴파일\n",
        "optimizer = tf.keras.optimizers.Adam(learning_rate=5e-5)\n",
        "\n",
        "# 모델 컴파일 시 손실 함수 명시적으로 설정\n",
        "model.compile(optimizer=optimizer, loss=tf.keras.losses.SparseCategoricalCrossentropy(from_logits=True))\n",
        "\n",
        "# 모델 훈련\n",
        "EPOCHS = 20  # 최대 훈련 Epoch 수 설정\n",
        "model.fit(\n",
        "    dataset,\n",
        "    epochs=EPOCHS,\n",
        "    callbacks=[cp_callback, early_stop_callback])"
      ],
      "metadata": {
        "colab": {
          "base_uri": "https://localhost:8080/"
        },
        "id": "cSShZOqD-i7s",
        "outputId": "8888fdf8-5b94-4156-e504-9054b144a474"
      },
      "execution_count": 15,
      "outputs": [
        {
          "output_type": "stream",
          "name": "stdout",
          "text": [
            "Drive already mounted at /content/drive; to attempt to forcibly remount, call drive.mount(\"/content/drive\", force_remount=True).\n",
            "                 Q            A  label\n",
            "0           12시 땡!   하루가 또 가네요.      0\n",
            "1      1지망 학교 떨어졌어    위로해 드립니다.      0\n",
            "2     3박4일 놀러가고 싶다  여행은 언제나 좋죠.      0\n",
            "3  3박4일 정도 놀러가고 싶다  여행은 언제나 좋죠.      0\n",
            "4          PPL 심하네   눈살이 찌푸려지죠.      0\n",
            "Epoch 1/20\n",
            "2956/2956 [==============================] - ETA: 0s - loss: 2.8983\n",
            "Epoch 1: loss improved from inf to 2.89829, saving model to /content/drive/MyDrive/model_checkpoints/best_model.ckpt\n",
            "2956/2956 [==============================] - 510s 147ms/step - loss: 2.8983\n",
            "Epoch 2/20\n",
            "2956/2956 [==============================] - ETA: 0s - loss: 2.7493\n",
            "Epoch 2: loss improved from 2.89829 to 2.74925, saving model to /content/drive/MyDrive/model_checkpoints/best_model.ckpt\n",
            "2956/2956 [==============================] - 414s 140ms/step - loss: 2.7493\n",
            "Epoch 3/20\n",
            "2956/2956 [==============================] - ETA: 0s - loss: 2.7447\n",
            "Epoch 3: loss improved from 2.74925 to 2.74472, saving model to /content/drive/MyDrive/model_checkpoints/best_model.ckpt\n",
            "2956/2956 [==============================] - 427s 144ms/step - loss: 2.7447\n",
            "Epoch 4/20\n",
            "2956/2956 [==============================] - ETA: 0s - loss: 2.7438\n",
            "Epoch 4: loss improved from 2.74472 to 2.74385, saving model to /content/drive/MyDrive/model_checkpoints/best_model.ckpt\n",
            "2956/2956 [==============================] - 439s 149ms/step - loss: 2.7438\n",
            "Epoch 5/20\n",
            "2956/2956 [==============================] - ETA: 0s - loss: 2.7431\n",
            "Epoch 5: loss improved from 2.74385 to 2.74314, saving model to /content/drive/MyDrive/model_checkpoints/best_model.ckpt\n",
            "2956/2956 [==============================] - 427s 144ms/step - loss: 2.7431\n",
            "Epoch 6/20\n",
            "2956/2956 [==============================] - ETA: 0s - loss: 2.7430\n",
            "Epoch 6: loss improved from 2.74314 to 2.74302, saving model to /content/drive/MyDrive/model_checkpoints/best_model.ckpt\n",
            "2956/2956 [==============================] - 435s 147ms/step - loss: 2.7430\n",
            "Epoch 7/20\n",
            "2956/2956 [==============================] - ETA: 0s - loss: 2.7403\n",
            "Epoch 7: loss improved from 2.74302 to 2.74029, saving model to /content/drive/MyDrive/model_checkpoints/best_model.ckpt\n",
            "2956/2956 [==============================] - 433s 147ms/step - loss: 2.7403\n",
            "Epoch 8/20\n",
            "2956/2956 [==============================] - ETA: 0s - loss: 2.8679\n",
            "Epoch 8: loss did not improve from 2.74029\n",
            "2956/2956 [==============================] - 411s 139ms/step - loss: 2.8679\n",
            "Epoch 9/20\n",
            "2956/2956 [==============================] - ETA: 0s - loss: 2.8305\n",
            "Epoch 9: loss did not improve from 2.74029\n",
            "2956/2956 [==============================] - 400s 135ms/step - loss: 2.8305\n",
            "Epoch 9: early stopping\n",
            "Restoring model weights from the end of the best epoch: 7.\n"
          ]
        },
        {
          "output_type": "execute_result",
          "data": {
            "text/plain": [
              "<tf_keras.src.callbacks.History at 0x7a3eba8099d0>"
            ]
          },
          "metadata": {},
          "execution_count": 15
        }
      ]
    },
    {
      "cell_type": "markdown",
      "source": [
        "**Ste 6. 훈련후 실습**"
      ],
      "metadata": {
        "id": "AbuzEezy-Rbs"
      }
    },
    {
      "cell_type": "code",
      "source": [
        "# 훈련이 완료된 후 모델 로드\n",
        "latest_checkpoint = tf.train.latest_checkpoint(checkpoint_dir)\n",
        "model.load_weights(latest_checkpoint)\n",
        "\n",
        "# 응답 생성 함수\n",
        "def generate_response(question, tokenizer, model):\n",
        "    inputs = tokenizer.encode(question, return_tensors='tf', max_length=50, truncation=True, padding='max_length')\n",
        "    reply_ids = model.generate(inputs, max_length=50, pad_token_id=tokenizer.eos_token_id)\n",
        "    return tokenizer.decode(reply_ids[0], skip_special_tokens=True)\n",
        "\n",
        "# 테스트\n",
        "question = \"오늘 저녁을 뭘 먹을까?\"\n",
        "response = generate_response(question, tokenizer, model)\n",
        "print(f\"Q: {question}\\nA: {response}\")"
      ],
      "metadata": {
        "colab": {
          "base_uri": "https://localhost:8080/"
        },
        "id": "VLGWd8ev-Qsv",
        "outputId": "e407e9c7-5780-4d33-c0c7-e27619663f46"
      },
      "execution_count": 17,
      "outputs": [
        {
          "output_type": "stream",
          "name": "stdout",
          "text": [
            "Q: 오늘 저녁을 뭘 먹을까?\n",
            "A: �������������������\n"
          ]
        }
      ]
    },
    {
      "cell_type": "markdown",
      "source": [
        "**회고**"
      ],
      "metadata": {
        "id": "9cduI8XucOuf"
      }
    },
    {
      "cell_type": "markdown",
      "source": [
        "1) Flutter 구현을 위해 BART 모델을 사용하였으나, 한국어를 인식하고 그에 맞는 대답을 주는 것이 처리되지 않음 (위의 예시 참고 바람)\n",
        "\n",
        "2) BART 를 사용한 모델은 개인 컴퓨터의 CPU 통하여 실행할 수가 없기에 Flutter 앱 실현을 마무리 하지 못함\n",
        "\n",
        "3) 자연어 처리를 직접 해보는 재미을 느낄 수 있는 귀한 시간이었습니다."
      ],
      "metadata": {
        "id": "-U3vgjBMcRhr"
      }
    }
  ]
}